{
 "cells": [
  {
   "attachments": {},
   "cell_type": "markdown",
   "metadata": {},
   "source": [
    "<a href=\"https://colab.research.google.com/github/da-roth/NeuronalNetworkTensorflowFramework/blob/main/multilevelmontecarlolearning/introductory_example_ColabDrive.ipynb\" target=\"_parent\"><img src=\"https://colab.research.google.com/assets/colab-badge.svg\" alt=\"Open In Colab\"/></a>\n",
    "\n"
   ]
  },
  {
   "cell_type": "code",
   "execution_count": null,
   "metadata": {},
   "outputs": [],
   "source": [
    "%%capture\n",
    "pip install git+https://github.com/da-roth/NeuronalNetworkTensorflowFramework#montecarlolearning\n",
    "pip install -U -q PyDrive"
   ]
  },
  {
   "cell_type": "code",
   "execution_count": null,
   "metadata": {},
   "outputs": [],
   "source": [
    "from montecarlolearning import *\n",
    "\n",
    "# import os\n",
    "# mainDirectory = os.path.abspath(os.path.join(os.getcwd() ,'..'))\n",
    "# packageFile = os.path.abspath(os.path.join(mainDirectory, 'montecarlolearning', 'packages.py'))\n",
    "# exec(open(packageFile).read())\n",
    " \n",
    " # Install the PyDrive wrapper & import libraries.\n",
    "# This only needs to be done once in a notebook.\n",
    "from pydrive.auth import GoogleAuth\n",
    "from pydrive.drive import GoogleDrive\n",
    "from google.colab import auth\n",
    "from oauth2client.client import GoogleCredentials\n",
    "## Authenticate and create the PyDrive client.\n",
    "## This only needs to be done once in a notebook.\n",
    "auth.authenticate_user()\n",
    "gauth = GoogleAuth()\n",
    "gauth.credentials = GoogleCredentials.get_application_default()\n",
    "drive = GoogleDrive(gauth)\n",
    "\n",
    "Generator = GBM_Multilevel()\n",
    "Generator.set_stepsInitialLevel(128)\n",
    "  \n",
    "Regressor = Neural_Approximator_Multilevel()\n",
    "Regressor.set_hiddenNeurons(50)\n",
    "Regressor.set_hiddenLayers(2)\n",
    "\n",
    "TrainSettings = TrainingSettings()\n",
    "TrainSettings.set_learning_rate_schedule([0.01, 0.1, 40000]) # [initial_learning_rate, decay, step_rate]\n",
    "TrainSettings.set_test_frequency(5000)                          \n",
    "TrainSettings.set_mcRounds(10)\n",
    "TrainSettings.set_nTest(2000000)\n",
    "TrainSettings.set_samplesPerStep(125000)\n",
    "TrainSettings.set_trainingSteps(150000)\n",
    "TrainSettings.set_fileName('single-introductory.csv')\n",
    "\n",
    "#train_and_test_Multilevel(Generator, Regressor, TrainSettings)\n",
    "\n",
    "# Loop used to generate results that are averaged, see outputs in /example-outputs\n",
    "for i in range(10):\n",
    "    fileName = f'single-introductory-{i}.csv'\n",
    "    TrainSettings.set_fileName(fileName)\n",
    "    train_and_test_Multilevel(Generator, Regressor, TrainSettings, i)\n",
    "    # Create & upload a file. in google drive\n",
    "    uploaded = drive.CreateFile({'title': fileName})\n",
    "    uploaded.SetContentFile(fileName)\n",
    "    uploaded.Upload()\n",
    "    print('Uploaded file with ID {}'.format(uploaded.get('id')))"
   ]
  },
  {
   "cell_type": "code",
   "execution_count": null,
   "metadata": {},
   "outputs": [],
   "source": [
    "Generator.set_stepsInitialLevel(1)\n",
    "\n",
    "TrainSettings.set_samplesPerStep([75000, 1817, 690, 264, 93, 33, 12, 5])\n",
    "TrainSettings.set_fileName('multi-introductory.csv')\n",
    "\n",
    "train_and_test_Multilevel(Generator, Regressor, TrainSettings)\n",
    "\n",
    "# Loop used to generate results that are averaged, see outputs in /example-outputs\n",
    "# for i in range(10):\n",
    "#     TrainSettings.set_fileName(f'multi-introductory-{i}.csv')\n",
    "#     train_and_test_Multilevel(Generator, Regressor, TrainSettings, i)"
   ]
  }
 ],
 "metadata": {
  "kernelspec": {
   "display_name": ".venvNN",
   "language": "python",
   "name": "python3"
  },
  "language_info": {
   "codemirror_mode": {
    "name": "ipython",
    "version": 3
   },
   "file_extension": ".py",
   "mimetype": "text/x-python",
   "name": "python",
   "nbconvert_exporter": "python",
   "pygments_lexer": "ipython3",
   "version": "3.10.11"
  },
  "orig_nbformat": 4
 },
 "nbformat": 4,
 "nbformat_minor": 2
}
