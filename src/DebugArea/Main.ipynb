{
 "cells": [
  {
   "cell_type": "code",
   "execution_count": 1,
   "metadata": {},
   "outputs": [
    {
     "ename": "FileNotFoundError",
     "evalue": "[Errno 2] No such file or directory: 'c:\\\\dev\\\\NeuronalNetworkTensorflowFramework\\\\src\\\\DebugArea\\\\montecarlolearning\\\\packages.py'",
     "output_type": "error",
     "traceback": [
      "\u001b[1;31m---------------------------------------------------------------------------\u001b[0m",
      "\u001b[1;31mFileNotFoundError\u001b[0m                         Traceback (most recent call last)",
      "\u001b[1;32mc:\\dev\\NeuronalNetworkTensorflowFramework\\src\\DebugArea\\Main.ipynb Cell 1\u001b[0m in \u001b[0;36m1\n\u001b[0;32m      <a href='vscode-notebook-cell:/c%3A/dev/NeuronalNetworkTensorflowFramework/src/DebugArea/Main.ipynb#W0sZmlsZQ%3D%3D?line=7'>8</a>\u001b[0m mainDirectory \u001b[39m=\u001b[39m os\u001b[39m.\u001b[39mgetcwd()\n\u001b[0;32m      <a href='vscode-notebook-cell:/c%3A/dev/NeuronalNetworkTensorflowFramework/src/DebugArea/Main.ipynb#W0sZmlsZQ%3D%3D?line=8'>9</a>\u001b[0m packageFile \u001b[39m=\u001b[39m os\u001b[39m.\u001b[39mpath\u001b[39m.\u001b[39mabspath(os\u001b[39m.\u001b[39mpath\u001b[39m.\u001b[39mjoin(mainDirectory, \u001b[39m'\u001b[39m\u001b[39mmontecarlolearning\u001b[39m\u001b[39m'\u001b[39m, \u001b[39m'\u001b[39m\u001b[39mpackages.py\u001b[39m\u001b[39m'\u001b[39m))\n\u001b[1;32m---> <a href='vscode-notebook-cell:/c%3A/dev/NeuronalNetworkTensorflowFramework/src/DebugArea/Main.ipynb#W0sZmlsZQ%3D%3D?line=9'>10</a>\u001b[0m exec(\u001b[39mopen\u001b[39;49m(packageFile)\u001b[39m.\u001b[39mread())\n\u001b[0;32m     <a href='vscode-notebook-cell:/c%3A/dev/NeuronalNetworkTensorflowFramework/src/DebugArea/Main.ipynb#W0sZmlsZQ%3D%3D?line=10'>11</a>\u001b[0m \u001b[39m### - dataSeed = seed for simulations or (for csv input) for randomization of csv\u001b[39;00m\n\u001b[0;32m     <a href='vscode-notebook-cell:/c%3A/dev/NeuronalNetworkTensorflowFramework/src/DebugArea/Main.ipynb#W0sZmlsZQ%3D%3D?line=11'>12</a>\u001b[0m dataSeed \u001b[39m=\u001b[39m \u001b[39m1\u001b[39m \n",
      "File \u001b[1;32mc:\\dev\\NeuronalNetworkTensorflowFramework\\.venvNN\\lib\\site-packages\\IPython\\core\\interactiveshell.py:282\u001b[0m, in \u001b[0;36m_modified_open\u001b[1;34m(file, *args, **kwargs)\u001b[0m\n\u001b[0;32m    275\u001b[0m \u001b[39mif\u001b[39;00m file \u001b[39min\u001b[39;00m {\u001b[39m0\u001b[39m, \u001b[39m1\u001b[39m, \u001b[39m2\u001b[39m}:\n\u001b[0;32m    276\u001b[0m     \u001b[39mraise\u001b[39;00m \u001b[39mValueError\u001b[39;00m(\n\u001b[0;32m    277\u001b[0m         \u001b[39mf\u001b[39m\u001b[39m\"\u001b[39m\u001b[39mIPython won\u001b[39m\u001b[39m'\u001b[39m\u001b[39mt let you open fd=\u001b[39m\u001b[39m{\u001b[39;00mfile\u001b[39m}\u001b[39;00m\u001b[39m by default \u001b[39m\u001b[39m\"\u001b[39m\n\u001b[0;32m    278\u001b[0m         \u001b[39m\"\u001b[39m\u001b[39mas it is likely to crash IPython. If you know what you are doing, \u001b[39m\u001b[39m\"\u001b[39m\n\u001b[0;32m    279\u001b[0m         \u001b[39m\"\u001b[39m\u001b[39myou can use builtins\u001b[39m\u001b[39m'\u001b[39m\u001b[39m open.\u001b[39m\u001b[39m\"\u001b[39m\n\u001b[0;32m    280\u001b[0m     )\n\u001b[1;32m--> 282\u001b[0m \u001b[39mreturn\u001b[39;00m io_open(file, \u001b[39m*\u001b[39margs, \u001b[39m*\u001b[39m\u001b[39m*\u001b[39mkwargs)\n",
      "\u001b[1;31mFileNotFoundError\u001b[0m: [Errno 2] No such file or directory: 'c:\\\\dev\\\\NeuronalNetworkTensorflowFramework\\\\src\\\\DebugArea\\\\montecarlolearning\\\\packages.py'"
     ]
    }
   ],
   "source": [
    "### Copy of Main.py as a juypter notebook to visualize results\n",
    "\n",
    "###\n",
    "### 0. Import packages and references\n",
    "###\n",
    "### Import framework\n",
    "import os\n",
    "mainDirectory = os.getcwd()\n",
    "packageFile = os.path.abspath(os.path.join(mainDirectory, 'montecarlolearning', 'packages.py'))\n",
    "exec(open(packageFile).read())\n",
    "### - dataSeed = seed for simulations or (for csv input) for randomization of csv\n",
    "dataSeed = 1 \n",
    "weightSeed = 1 \n",
    "\n",
    "\n",
    "###\n",
    "### 1. Training data\n",
    "###\n",
    "#from CDF import *\n",
    "#sizes = [1000,100] # [sizePerTrainingStep, trainingSteps]\n",
    "#nTest = 2000 # Test set size\n",
    "\n",
    "Generator = CDF()\n",
    "#print(Generator.path == None)\n",
    "Generator.set_inputName('x')\n",
    "Generator.set_outputName('CDF(x)')\n",
    "Generator.set_trainingSetSizes([1000,100])\n",
    "Generator.set_nTest(2000)\n",
    "\n",
    "###\n",
    "### 2. Set Nueral network structure / Hyperparameters\n",
    "### \n",
    "\n",
    "Regressor = Neural_Approximator()\n",
    "Regressor.set_Generator(Generator)\n",
    "Regressor.set_hiddenNeurons(20)\n",
    "Regressor.set_hiddenLayers(3)\n",
    "Regressor.set_activationFunctionsHidden([tf.nn.tanh])\n",
    "\n",
    "#hiddenNeurons = 20               # we use equal neurons for each hidden layer\n",
    "#hiddenLayers = 3                # amount of hidden layers\n",
    "#activationFunctionsHidden = [tf.nn.tanh]   # activation functions of hidden layers\n",
    "\n",
    "TrainSettings = TrainingSettings()\n",
    "TrainSettings.set_epochs(20)\n",
    "TrainSettings.set_min_batch_size(1)\n",
    "\n",
    "###\n",
    "### 3. Train network and Study results\n",
    "### Comment: For different trainingSetSizes the neural network reset and not saved, hence train and evaluation of yPredicted are done together currently\n",
    "###\n",
    "xTest, yTest, yPredicted = train_and_test(Generator, Regressor, TrainSettings)\n",
    "plot_results(\"CDF unrandomized deterministic inputs\", yPredicted, xTest, yTest, Generator)"
   ]
  }
 ],
 "metadata": {
  "kernelspec": {
   "display_name": ".venvNN",
   "language": "python",
   "name": "python3"
  },
  "language_info": {
   "codemirror_mode": {
    "name": "ipython",
    "version": 3
   },
   "file_extension": ".py",
   "mimetype": "text/x-python",
   "name": "python",
   "nbconvert_exporter": "python",
   "pygments_lexer": "ipython3",
   "version": "3.9.12"
  },
  "orig_nbformat": 4,
  "vscode": {
   "interpreter": {
    "hash": "83a8566224840326395a21c083192bd4c5adbde2ed4f12bcb51b671fb460c3a0"
   }
  }
 },
 "nbformat": 4,
 "nbformat_minor": 2
}
