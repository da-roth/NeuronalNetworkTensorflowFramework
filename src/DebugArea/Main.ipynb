{
 "cells": [
  {
   "cell_type": "code",
   "execution_count": 1,
   "metadata": {},
   "outputs": [
    {
     "name": "stdout",
     "output_type": "stream",
     "text": [
      "GPU support =  False\n",
      "RMSE after 100 training steps is [0.02618152]\n",
      "RMSE after 200 training steps is [0.00862037]\n",
      "RMSE after 300 training steps is [0.01891413]\n",
      "RMSE after 400 training steps is [0.01705724]\n",
      "RMSE after 500 training steps is [0.00861485]\n",
      "RMSE after 600 training steps is [0.02813172]\n",
      "RMSE after 700 training steps is [0.01948056]\n",
      "RMSE after 800 training steps is [0.01632026]\n",
      "RMSE after 900 training steps is [0.01439478]\n",
      "RMSE after 1000 training steps is [0.00719183]\n",
      "RMSE after training is [0.00719183]\n",
      "max error  after training is [0.02043569]\n"
     ]
    }
   ],
   "source": [
    "###\n",
    "### 0. Import packages and references\n",
    "###\n",
    "\n",
    "### Import framework\n",
    "import os\n",
    "mainDirectory = os.path.abspath(os.path.join(os.getcwd() , '..','..'))\n",
    "packageFile = os.path.abspath(os.path.join(mainDirectory, 'montecarlolearning', 'packages.py'))\n",
    "exec(open(packageFile).read())\n",
    "\n",
    "###\n",
    "### 1. Training data Generator/Importer\n",
    "###\n",
    "\n",
    "Generator = CDF()\n",
    "Generator.set_inputName('x')\n",
    "Generator.set_outputName('CDF(x)')\n",
    "\n",
    "###\n",
    "### 2. Set Nueral network structure / Hyperparameters\n",
    "### \n",
    "\n",
    "Regressor = Neural_Approximator()\n",
    "Regressor.set_Generator(Generator)\n",
    "Regressor.set_hiddenNeurons(20)\n",
    "Regressor.set_hiddenLayers(3)\n",
    "Regressor.set_activationFunctionsHidden([tf.nn.tanh])\n",
    "Regressor.set_weight_seed(1)\n",
    "\n",
    "###\n",
    "### 3. Training settings\n",
    "### \n",
    "\n",
    "TrainSettings = TrainingSettings()\n",
    "TrainSettings.set_learning_rate_schedule=([(0.0, 0.000001),  (0.2, 0.00001),  (0.4, 0.00001), (0.6, 0.00001),  (0.8, 0.00001)] )\n",
    "TrainSettings.set_min_batch_size(1)\n",
    "TrainSettings.set_test_frequency(100)\n",
    "TrainSettings.set_nTest(2000)\n",
    "TrainSettings.set_samplesPerStep(1000)\n",
    "TrainSettings.set_trainingSteps(1000)\n",
    "\n",
    "###\n",
    "### 4. Train and evaluate\n",
    "###\n",
    "xTest, yTest, yPredicted = train_and_test(Generator, Regressor, TrainSettings)"
   ]
  }
 ],
 "metadata": {
  "kernelspec": {
   "display_name": ".venvNN",
   "language": "python",
   "name": "python3"
  },
  "language_info": {
   "codemirror_mode": {
    "name": "ipython",
    "version": 3
   },
   "file_extension": ".py",
   "mimetype": "text/x-python",
   "name": "python",
   "nbconvert_exporter": "python",
   "pygments_lexer": "ipython3",
   "version": "3.9.12"
  },
  "orig_nbformat": 4,
  "vscode": {
   "interpreter": {
    "hash": "83a8566224840326395a21c083192bd4c5adbde2ed4f12bcb51b671fb460c3a0"
   }
  }
 },
 "nbformat": 4,
 "nbformat_minor": 2
}
