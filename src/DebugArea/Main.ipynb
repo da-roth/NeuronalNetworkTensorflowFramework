{
 "cells": [
  {
   "cell_type": "code",
   "execution_count": 2,
   "metadata": {},
   "outputs": [
    {
     "name": "stdout",
     "output_type": "stream",
     "text": [
      "Used batch_size will be: 20\n"
     ]
    },
    {
     "ename": "ValueError",
     "evalue": "Cannot feed value of shape (5,) for Tensor Placeholder_1:0, which has shape (None, 1)",
     "output_type": "error",
     "traceback": [
      "\u001b[1;31m---------------------------------------------------------------------------\u001b[0m",
      "\u001b[1;31mValueError\u001b[0m                                Traceback (most recent call last)",
      "Cell \u001b[1;32mIn [2], line 38\u001b[0m\n\u001b[0;32m     33\u001b[0m \u001b[39m###\u001b[39;00m\n\u001b[0;32m     34\u001b[0m \u001b[39m### 3. Train network\u001b[39;00m\n\u001b[0;32m     35\u001b[0m \u001b[39m###\u001b[39;00m\n\u001b[0;32m     37\u001b[0m trainingMethod \u001b[39m=\u001b[39m TrainingMethod\u001b[39m.\u001b[39mGenerateDataDuringTraining\n\u001b[1;32m---> 38\u001b[0m xTest, yTest, yPredicted \u001b[39m=\u001b[39m train_and_test(generator, sizes, nTest, dataSeed, \u001b[39mNone\u001b[39;49;00m, weightSeed, hiddenNeurons, hiddenLayers, activationFunctionsHidden, trainingMethod \u001b[39m=\u001b[39;49m trainingMethod, batches_per_epoch \u001b[39m=\u001b[39;49m batches_per_epoch)\n\u001b[0;32m     40\u001b[0m \u001b[39m###\u001b[39;00m\n\u001b[0;32m     41\u001b[0m \u001b[39m### 3. Study results\u001b[39;00m\n\u001b[0;32m     42\u001b[0m \u001b[39m###   \u001b[39;00m\n\u001b[0;32m     43\u001b[0m \n\u001b[0;32m     44\u001b[0m \u001b[39m# show predicitions\u001b[39;00m\n\u001b[0;32m     45\u001b[0m plot_results(\u001b[39m\"\u001b[39m\u001b[39mCDF random inputs\u001b[39m\u001b[39m\"\u001b[39m, yPredicted, xTest, \u001b[39m\"\u001b[39m\u001b[39mx\u001b[39m\u001b[39m\"\u001b[39m, \u001b[39m\"\u001b[39m\u001b[39mCDF(x)\u001b[39m\u001b[39m\"\u001b[39m, yTest, sizes, \u001b[39mTrue\u001b[39;00m, \u001b[39mFalse\u001b[39;00m, \u001b[39mNone\u001b[39;00m, trainingMethod)\n",
      "File \u001b[1;32mc:\\dev\\NeuronalNetworkTensorflowFramework\\montecarlolearning\\train_and_test.py:95\u001b[0m, in \u001b[0;36mtrain_and_test\u001b[1;34m(generator, sizes, nTest, dataSeed, testSeed, weightSeed, hiddenNeurons, hiddenLayers, activationFunctionsHidden, activationFunctionOutput, trainingMethod, testFrequency, outputDimension, deltidx, epochs, learning_rate_schedule, batches_per_epoch, min_batch_size, biasNeuron)\u001b[0m\n\u001b[0;32m     91\u001b[0m regressor\u001b[39m.\u001b[39mprepare(sizes[\u001b[39m0\u001b[39m], \u001b[39mFalse\u001b[39;00m, hiddenNeurons, hiddenLayers, activationFunctionsHidden, activationFunctionOutput, weight_seed\u001b[39m=\u001b[39mweightSeed)\n\u001b[0;32m     92\u001b[0m \u001b[39m#print(\"done\")        \u001b[39;00m\n\u001b[0;32m     93\u001b[0m \n\u001b[0;32m     94\u001b[0m \u001b[39m# 3. First training step\u001b[39;00m\n\u001b[1;32m---> 95\u001b[0m regressor\u001b[39m.\u001b[39;49mtrain(\u001b[39m\"\u001b[39;49m\u001b[39mstandard training\u001b[39;49m\u001b[39m\"\u001b[39;49m,epochs,learning_rate_schedule,batches_per_epoch,min_batch_size)\n\u001b[0;32m     97\u001b[0m predvalues \u001b[39m=\u001b[39m {}    \n\u001b[0;32m     98\u001b[0m preddeltas \u001b[39m=\u001b[39m {}\n",
      "File \u001b[1;32mc:\\dev\\NeuronalNetworkTensorflowFramework\\montecarlolearning\\Neural_Approximator.py:184\u001b[0m, in \u001b[0;36mNeural_Approximator.train\u001b[1;34m(self, description, epochs, learning_rate_schedule, batches_per_epoch, min_batch_size, reinit, callback, callback_epochs, xTest, yTest)\u001b[0m\n\u001b[0;32m    167\u001b[0m \u001b[39mdef\u001b[39;00m \u001b[39mtrain\u001b[39m(\u001b[39mself\u001b[39m,            \n\u001b[0;32m    168\u001b[0m           description,\n\u001b[0;32m    169\u001b[0m           \u001b[39m# training params\u001b[39;00m\n\u001b[1;32m   (...)\u001b[0m\n\u001b[0;32m    181\u001b[0m           yTest\u001b[39m=\u001b[39m\u001b[39mNone\u001b[39;00m              \n\u001b[0;32m    182\u001b[0m           ):     \u001b[39m# call after what epochs, e.g. [5, 20]\u001b[39;00m\n\u001b[1;32m--> 184\u001b[0m     train(description, \n\u001b[0;32m    185\u001b[0m           \u001b[39mself\u001b[39;49m, \n\u001b[0;32m    186\u001b[0m           epochs, \n\u001b[0;32m    187\u001b[0m           learning_rate_schedule, \n\u001b[0;32m    188\u001b[0m           batches_per_epoch, \n\u001b[0;32m    189\u001b[0m           min_batch_size,\n\u001b[0;32m    190\u001b[0m           reinit, \n\u001b[0;32m    191\u001b[0m           callback, \n\u001b[0;32m    192\u001b[0m           callback_epochs,\n\u001b[0;32m    193\u001b[0m           xTest,\n\u001b[0;32m    194\u001b[0m           yTest)\n",
      "File \u001b[1;32mc:\\dev\\NeuronalNetworkTensorflowFramework\\montecarlolearning\\train.py:65\u001b[0m, in \u001b[0;36mtrain\u001b[1;34m(description, approximator, epochs, learning_rate_schedule, batches_per_epoch, min_batch_size, reinit, callback, callback_epochs, xTest, yTest)\u001b[0m\n\u001b[0;32m     62\u001b[0m \u001b[39m# train one epoch\u001b[39;00m\n\u001b[0;32m     63\u001b[0m \u001b[39mif\u001b[39;00m \u001b[39mnot\u001b[39;00m approximator\u001b[39m.\u001b[39mdifferential:\n\u001b[1;32m---> 65\u001b[0m     vanilla_train_one_epoch(\n\u001b[0;32m     66\u001b[0m         approximator\u001b[39m.\u001b[39;49minputs, \n\u001b[0;32m     67\u001b[0m         approximator\u001b[39m.\u001b[39;49mlabels, \n\u001b[0;32m     68\u001b[0m         approximator\u001b[39m.\u001b[39;49mlearning_rate, \n\u001b[0;32m     69\u001b[0m         approximator\u001b[39m.\u001b[39;49mminimizer, \n\u001b[0;32m     70\u001b[0m         approximator\u001b[39m.\u001b[39;49mx, \n\u001b[0;32m     71\u001b[0m         approximator\u001b[39m.\u001b[39;49my, \n\u001b[0;32m     72\u001b[0m         learning_rate, \n\u001b[0;32m     73\u001b[0m         batch_size, \n\u001b[0;32m     74\u001b[0m         approximator\u001b[39m.\u001b[39;49msession)\n\u001b[0;32m     75\u001b[0m     i \u001b[39m=\u001b[39m i \u001b[39m+\u001b[39m\u001b[39m1\u001b[39m\n\u001b[0;32m     76\u001b[0m     \u001b[39mif\u001b[39;00m i \u001b[39m%\u001b[39m testFrequency \u001b[39m==\u001b[39m \u001b[39m0\u001b[39m:\n\u001b[0;32m     77\u001b[0m         \u001b[39m#print('learning_rate for the last epoch was' + str(learning_rate))\u001b[39;00m\n",
      "File \u001b[1;32mc:\\dev\\NeuronalNetworkTensorflowFramework\\montecarlolearning\\vanilla_train_one_epoch.py:15\u001b[0m, in \u001b[0;36mvanilla_train_one_epoch\u001b[1;34m(inputs, labels, lr_placeholder, minimizer, x_train, y_train, learning_rate, batch_size, session)\u001b[0m\n\u001b[0;32m     13\u001b[0m last \u001b[39m=\u001b[39m \u001b[39mmin\u001b[39m(batch_size, m) \u001b[39m#Assume batch size is 256, than first index = 0, after one loop first is at 256. If last is 750 (again index) we will ahve 3 iterations in while\u001b[39;00m\n\u001b[0;32m     14\u001b[0m \u001b[39mwhile\u001b[39;00m first \u001b[39m<\u001b[39m m:\n\u001b[1;32m---> 15\u001b[0m     session\u001b[39m.\u001b[39;49mrun(minimizer, feed_dict \u001b[39m=\u001b[39;49m {\n\u001b[0;32m     16\u001b[0m         inputs: x_train[first:last], \n\u001b[0;32m     17\u001b[0m         labels: y_train[first:last],\n\u001b[0;32m     18\u001b[0m         lr_placeholder: learning_rate\n\u001b[0;32m     19\u001b[0m     })\n\u001b[0;32m     20\u001b[0m     first \u001b[39m=\u001b[39m last\n\u001b[0;32m     21\u001b[0m     last \u001b[39m=\u001b[39m \u001b[39mmin\u001b[39m(first \u001b[39m+\u001b[39m batch_size, m)\n",
      "File \u001b[1;32mc:\\dev\\NeuronalNetworkTensorflowFramework\\.venvNN\\lib\\site-packages\\tensorflow\\python\\client\\session.py:968\u001b[0m, in \u001b[0;36mBaseSession.run\u001b[1;34m(self, fetches, feed_dict, options, run_metadata)\u001b[0m\n\u001b[0;32m    965\u001b[0m run_metadata_ptr \u001b[39m=\u001b[39m tf_session\u001b[39m.\u001b[39mTF_NewBuffer() \u001b[39mif\u001b[39;00m run_metadata \u001b[39melse\u001b[39;00m \u001b[39mNone\u001b[39;00m\n\u001b[0;32m    967\u001b[0m \u001b[39mtry\u001b[39;00m:\n\u001b[1;32m--> 968\u001b[0m   result \u001b[39m=\u001b[39m \u001b[39mself\u001b[39;49m\u001b[39m.\u001b[39;49m_run(\u001b[39mNone\u001b[39;49;00m, fetches, feed_dict, options_ptr,\n\u001b[0;32m    969\u001b[0m                      run_metadata_ptr)\n\u001b[0;32m    970\u001b[0m   \u001b[39mif\u001b[39;00m run_metadata:\n\u001b[0;32m    971\u001b[0m     proto_data \u001b[39m=\u001b[39m tf_session\u001b[39m.\u001b[39mTF_GetBuffer(run_metadata_ptr)\n",
      "File \u001b[1;32mc:\\dev\\NeuronalNetworkTensorflowFramework\\.venvNN\\lib\\site-packages\\tensorflow\\python\\client\\session.py:1165\u001b[0m, in \u001b[0;36mBaseSession._run\u001b[1;34m(self, handle, fetches, feed_dict, options, run_metadata)\u001b[0m\n\u001b[0;32m   1161\u001b[0m   np_val \u001b[39m=\u001b[39m np\u001b[39m.\u001b[39masarray(subfeed_val, dtype\u001b[39m=\u001b[39msubfeed_dtype)\n\u001b[0;32m   1163\u001b[0m \u001b[39mif\u001b[39;00m (\u001b[39mnot\u001b[39;00m is_tensor_handle_feed \u001b[39mand\u001b[39;00m\n\u001b[0;32m   1164\u001b[0m     \u001b[39mnot\u001b[39;00m subfeed_t\u001b[39m.\u001b[39mget_shape()\u001b[39m.\u001b[39mis_compatible_with(np_val\u001b[39m.\u001b[39mshape)):\n\u001b[1;32m-> 1165\u001b[0m   \u001b[39mraise\u001b[39;00m \u001b[39mValueError\u001b[39;00m(\n\u001b[0;32m   1166\u001b[0m       \u001b[39mf\u001b[39m\u001b[39m'\u001b[39m\u001b[39mCannot feed value of shape \u001b[39m\u001b[39m{\u001b[39;00m\u001b[39mstr\u001b[39m(np_val\u001b[39m.\u001b[39mshape)\u001b[39m}\u001b[39;00m\u001b[39m for Tensor \u001b[39m\u001b[39m'\u001b[39m\n\u001b[0;32m   1167\u001b[0m       \u001b[39mf\u001b[39m\u001b[39m'\u001b[39m\u001b[39m{\u001b[39;00msubfeed_t\u001b[39m.\u001b[39mname\u001b[39m}\u001b[39;00m\u001b[39m, which has shape \u001b[39m\u001b[39m'\u001b[39m\n\u001b[0;32m   1168\u001b[0m       \u001b[39mf\u001b[39m\u001b[39m'\u001b[39m\u001b[39m{\u001b[39;00m\u001b[39mstr\u001b[39m(subfeed_t\u001b[39m.\u001b[39mget_shape())\u001b[39m}\u001b[39;00m\u001b[39m'\u001b[39m)\n\u001b[0;32m   1169\u001b[0m \u001b[39mif\u001b[39;00m \u001b[39mnot\u001b[39;00m \u001b[39mself\u001b[39m\u001b[39m.\u001b[39mgraph\u001b[39m.\u001b[39mis_feedable(subfeed_t):\n\u001b[0;32m   1170\u001b[0m   \u001b[39mraise\u001b[39;00m \u001b[39mValueError\u001b[39;00m(\u001b[39mf\u001b[39m\u001b[39m'\u001b[39m\u001b[39mTensor \u001b[39m\u001b[39m{\u001b[39;00msubfeed_t\u001b[39m.\u001b[39mname\u001b[39m}\u001b[39;00m\u001b[39m may not be fed.\u001b[39m\u001b[39m'\u001b[39m)\n",
      "\u001b[1;31mValueError\u001b[0m: Cannot feed value of shape (5,) for Tensor Placeholder_1:0, which has shape (None, 1)"
     ]
    }
   ],
   "source": [
    "### Copy of Main.py as a juypter notebook to visualize results\n",
    "\n",
    "###\n",
    "### 0. Import packages and references\n",
    "###\n",
    "### Import framework\n",
    "import os\n",
    "mainDirectory = os.getcwd()\n",
    "packageFile = os.path.abspath(os.path.join(mainDirectory, 'montecarlolearning', 'packages.py'))\n",
    "exec(open(packageFile).read())\n",
    "### - dataSeed = seed for simulations or (for csv input) for randomization of csv\n",
    "dataSeed = 1 \n",
    "weightSeed = 1 \n",
    "\n",
    "\n",
    "###\n",
    "### 1. Training data\n",
    "###\n",
    "#from CDF import *\n",
    "#sizes = [1000,100] # [sizePerTrainingStep, trainingSteps]\n",
    "#nTest = 2000 # Test set size\n",
    "\n",
    "Generator = CDF()\n",
    "#print(Generator.path == None)\n",
    "Generator.set_inputName('x')\n",
    "Generator.set_outputName('CDF(x)')\n",
    "Generator.set_trainingSetSizes([1000,100])\n",
    "Generator.set_nTest(2000)\n",
    "\n",
    "###\n",
    "### 2. Set Nueral network structure / Hyperparameters\n",
    "### \n",
    "\n",
    "Regressor = Neural_Approximator()\n",
    "Regressor.set_Generator(Generator)\n",
    "Regressor.set_hiddenNeurons(20)\n",
    "Regressor.set_hiddenLayers(3)\n",
    "Regressor.set_activationFunctionsHidden([tf.nn.tanh])\n",
    "\n",
    "#hiddenNeurons = 20               # we use equal neurons for each hidden layer\n",
    "#hiddenLayers = 3                # amount of hidden layers\n",
    "#activationFunctionsHidden = [tf.nn.tanh]   # activation functions of hidden layers\n",
    "\n",
    "TrainSettings = TrainingSettings()\n",
    "TrainSettings.set_epochs(20)\n",
    "TrainSettings.set_min_batch_size(1)\n",
    "\n",
    "###\n",
    "### 3. Train network and Study results\n",
    "### Comment: For different trainingSetSizes the neural network reset and not saved, hence train and evaluation of yPredicted are done together currently\n",
    "###\n",
    "xTest, yTest, yPredicted = train_and_test(Generator, Regressor, TrainSettings)\n",
    "plot_results(\"CDF unrandomized deterministic inputs\", yPredicted, xTest, yTest, Generator)"
   ]
  }
 ],
 "metadata": {
  "kernelspec": {
   "display_name": ".venvNN",
   "language": "python",
   "name": "python3"
  },
  "language_info": {
   "codemirror_mode": {
    "name": "ipython",
    "version": 3
   },
   "file_extension": ".py",
   "mimetype": "text/x-python",
   "name": "python",
   "nbconvert_exporter": "python",
   "pygments_lexer": "ipython3",
   "version": "3.9.12"
  },
  "orig_nbformat": 4,
  "vscode": {
   "interpreter": {
    "hash": "83a8566224840326395a21c083192bd4c5adbde2ed4f12bcb51b671fb460c3a0"
   }
  }
 },
 "nbformat": 4,
 "nbformat_minor": 2
}
