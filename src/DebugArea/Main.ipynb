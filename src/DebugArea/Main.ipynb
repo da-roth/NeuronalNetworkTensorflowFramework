{
 "cells": [
  {
   "cell_type": "code",
   "execution_count": 1,
   "metadata": {},
   "outputs": [
    {
     "name": "stdout",
     "output_type": "stream",
     "text": [
      "TF version = 2.10.0\n",
      "TF version = 2.10.0\n",
      "TF version = 2.10.0\n",
      "TF version = 2.10.0\n",
      "simulating training, valid and test sets\n"
     ]
    },
    {
     "ename": "TypeError",
     "evalue": "'>' not supported between instances of 'str' and 'int'",
     "output_type": "error",
     "traceback": [
      "\u001b[1;31m---------------------------------------------------------------------------\u001b[0m",
      "\u001b[1;31mTypeError\u001b[0m                                 Traceback (most recent call last)",
      "Cell \u001b[1;32mIn [1], line 37\u001b[0m\n\u001b[0;32m     32\u001b[0m \u001b[39m###\u001b[39;00m\n\u001b[0;32m     33\u001b[0m \u001b[39m### 3. Train network\u001b[39;00m\n\u001b[0;32m     34\u001b[0m \u001b[39m###\u001b[39;00m\n\u001b[0;32m     35\u001b[0m trainingMethod \u001b[39m=\u001b[39m TrainingMethod\u001b[39m.\u001b[39mStandard\n\u001b[1;32m---> 37\u001b[0m xTest, yTest, yPredicted \u001b[39m=\u001b[39m train_and_test(generator, sizes, nTest, dataSeed, \u001b[39mNone\u001b[39;49;00m, weightSeed, hiddenNeurons, hiddenLayers, activationFunctions, trainingMethod)\n\u001b[0;32m     39\u001b[0m \u001b[39m###\u001b[39;00m\n\u001b[0;32m     40\u001b[0m \u001b[39m### 3. Study results\u001b[39;00m\n\u001b[0;32m     41\u001b[0m \u001b[39m###   \u001b[39;00m\n\u001b[0;32m     42\u001b[0m \n\u001b[0;32m     43\u001b[0m \u001b[39m# show predicitions\u001b[39;00m\n\u001b[0;32m     44\u001b[0m plot_results(\u001b[39m\"\u001b[39m\u001b[39mBlack & Scholes\u001b[39m\u001b[39m\"\u001b[39m, yPredicted, xTest, \u001b[39m\"\u001b[39m\u001b[39mtest inputs\u001b[39m\u001b[39m\"\u001b[39m, \u001b[39m\"\u001b[39m\u001b[39myPredicted\u001b[39m\u001b[39m\"\u001b[39m, yTest, sizes, \u001b[39mTrue\u001b[39;00m, \u001b[39mFalse\u001b[39;00m, \u001b[39mNone\u001b[39;00m, trainingMethod)\n",
      "File \u001b[1;32mc:\\dev\\MonteCarloLearning\\src\\NNFramework\\train_and_test.py:23\u001b[0m, in \u001b[0;36mtrain_and_test\u001b[1;34m(generator, sizes, nTest, dataSeed, testSeed, weightSeed, hiddenNeurons, hiddenLayers, activationFunctions, trainingMethod, testFrequency, outputDimension, deltidx)\u001b[0m\n\u001b[0;32m     20\u001b[0m \u001b[39mif\u001b[39;00m trainingMethod \u001b[39m==\u001b[39m TrainingMethod\u001b[39m.\u001b[39mStandard:\n\u001b[0;32m     21\u001b[0m     \u001b[39m# 1. Simulation of training set, but only for max(sizes), other sizes will use these\u001b[39;00m\n\u001b[0;32m     22\u001b[0m     \u001b[39mprint\u001b[39m(\u001b[39m\"\u001b[39m\u001b[39msimulating training, valid and test sets\u001b[39m\u001b[39m\"\u001b[39m)\n\u001b[1;32m---> 23\u001b[0m     xTrain, yTrain, _unused \u001b[39m=\u001b[39m generator\u001b[39m.\u001b[39;49mtrainingSet(\u001b[39mmax\u001b[39;49m(sizes), trainSeed\u001b[39m=\u001b[39;49mdataSeed)\n\u001b[0;32m     24\u001b[0m     xTest, yTest, _unused, _unused2 \u001b[39m=\u001b[39m generator\u001b[39m.\u001b[39mtestSet(num\u001b[39m=\u001b[39mnTest, testSeed\u001b[39m=\u001b[39mtestSeed)\n\u001b[0;32m     25\u001b[0m     \u001b[39mprint\u001b[39m(\u001b[39m\"\u001b[39m\u001b[39mdone\u001b[39m\u001b[39m\"\u001b[39m)\n",
      "File \u001b[1;32mc:\\dev\\MonteCarloLearning\\src\\NNFramework\\DataImporter.py:25\u001b[0m, in \u001b[0;36mDataImporter.trainingSet\u001b[1;34m(self, m, trainSeed)\u001b[0m\n\u001b[0;32m     23\u001b[0m \u001b[39mdef\u001b[39;00m \u001b[39mtrainingSet\u001b[39m(\u001b[39mself\u001b[39m,m, trainSeed \u001b[39m=\u001b[39m \u001b[39mNone\u001b[39;00m):\n\u001b[0;32m     24\u001b[0m     \u001b[39mif\u001b[39;00m \u001b[39mnot\u001b[39;00m \u001b[39mself\u001b[39m\u001b[39m.\u001b[39mtestDataPath:\n\u001b[1;32m---> 25\u001b[0m         \u001b[39mself\u001b[39m\u001b[39m.\u001b[39mtrain_df \u001b[39m=\u001b[39m \u001b[39mself\u001b[39;49m\u001b[39m.\u001b[39;49mdf\u001b[39m.\u001b[39;49msample(frac\u001b[39m=\u001b[39;49m\u001b[39mself\u001b[39;49m\u001b[39m.\u001b[39;49mtrainTestRatio, random_state\u001b[39m=\u001b[39;49m\u001b[39m1\u001b[39;49m)\n\u001b[0;32m     26\u001b[0m         xTrain \u001b[39m=\u001b[39m \u001b[39mself\u001b[39m\u001b[39m.\u001b[39mtrain_df\u001b[39m.\u001b[39mdrop(\u001b[39mself\u001b[39m\u001b[39m.\u001b[39minputName,axis\u001b[39m=\u001b[39m\u001b[39m1\u001b[39m)\n\u001b[0;32m     27\u001b[0m         yTrain \u001b[39m=\u001b[39m \u001b[39mself\u001b[39m\u001b[39m.\u001b[39mtrain_df\u001b[39m.\u001b[39mdrop(\u001b[39mself\u001b[39m\u001b[39m.\u001b[39moutoutName,axis\u001b[39m=\u001b[39m\u001b[39m1\u001b[39m)\n",
      "File \u001b[1;32mc:\\dev\\MonteCarloLearning\\.venvNN\\lib\\site-packages\\pandas\\core\\generic.py:5765\u001b[0m, in \u001b[0;36mNDFrame.sample\u001b[1;34m(self, n, frac, replace, weights, random_state, axis, ignore_index)\u001b[0m\n\u001b[0;32m   5762\u001b[0m \u001b[39m# Process random_state argument\u001b[39;00m\n\u001b[0;32m   5763\u001b[0m rs \u001b[39m=\u001b[39m com\u001b[39m.\u001b[39mrandom_state(random_state)\n\u001b[1;32m-> 5765\u001b[0m size \u001b[39m=\u001b[39m sample\u001b[39m.\u001b[39;49mprocess_sampling_size(n, frac, replace)\n\u001b[0;32m   5766\u001b[0m \u001b[39mif\u001b[39;00m size \u001b[39mis\u001b[39;00m \u001b[39mNone\u001b[39;00m:\n\u001b[0;32m   5767\u001b[0m     \u001b[39massert\u001b[39;00m frac \u001b[39mis\u001b[39;00m \u001b[39mnot\u001b[39;00m \u001b[39mNone\u001b[39;00m\n",
      "File \u001b[1;32mc:\\dev\\MonteCarloLearning\\.venvNN\\lib\\site-packages\\pandas\\core\\sample.py:102\u001b[0m, in \u001b[0;36mprocess_sampling_size\u001b[1;34m(n, frac, replace)\u001b[0m\n\u001b[0;32m    100\u001b[0m \u001b[39melse\u001b[39;00m:\n\u001b[0;32m    101\u001b[0m     \u001b[39massert\u001b[39;00m frac \u001b[39mis\u001b[39;00m \u001b[39mnot\u001b[39;00m \u001b[39mNone\u001b[39;00m  \u001b[39m# for mypy\u001b[39;00m\n\u001b[1;32m--> 102\u001b[0m     \u001b[39mif\u001b[39;00m frac \u001b[39m>\u001b[39;49m \u001b[39m1\u001b[39;49m \u001b[39mand\u001b[39;00m \u001b[39mnot\u001b[39;00m replace:\n\u001b[0;32m    103\u001b[0m         \u001b[39mraise\u001b[39;00m \u001b[39mValueError\u001b[39;00m(\n\u001b[0;32m    104\u001b[0m             \u001b[39m\"\u001b[39m\u001b[39mReplace has to be set to `True` when \u001b[39m\u001b[39m\"\u001b[39m\n\u001b[0;32m    105\u001b[0m             \u001b[39m\"\u001b[39m\u001b[39mupsampling the population `frac` > 1.\u001b[39m\u001b[39m\"\u001b[39m\n\u001b[0;32m    106\u001b[0m         )\n\u001b[0;32m    107\u001b[0m     \u001b[39mif\u001b[39;00m frac \u001b[39m<\u001b[39m \u001b[39m0\u001b[39m:\n",
      "\u001b[1;31mTypeError\u001b[0m: '>' not supported between instances of 'str' and 'int'"
     ]
    }
   ],
   "source": [
    "### Copy of Main.py as a juypter notebook to visualize results\n",
    "\n",
    "###\n",
    "### 0. Import packages and references\n",
    "###\n",
    "### - dataSeed = seed for simulations or (for csv input) for randomization of csv\n",
    "\n",
    "exec(open('C:/dev/MonteCarloLearning/src/NNFramework/packages.py').read())\n",
    "dataSeed = 1 \n",
    "weightSeed = 1 \n",
    "\n",
    "\n",
    "###\n",
    "### 1. Training data\n",
    "###\n",
    "### - First option: use generation class that computes training data during training\n",
    "### - Second option: use csv sheet\n",
    "\n",
    "generator = BlackScholes()\n",
    "#sizes = [750, 7500] # training set sizes. Performed one after the other and might be compared\n",
    "\n",
    "#generator = DataImporter('C:/dev/MonteCarloLearning/src/BlackScholes/data/training1dimDataImpliedVolatility10E5.csv')\n",
    "sizes = [1000,2000] # [sizePerTrainingStep, trainingSteps]\n",
    "nTest = 2000 # Test set size\n",
    "\n",
    "\n",
    "###\n",
    "### 2. Set Nueral network structure / Hyperparameters\n",
    "### \n",
    "\n",
    "hiddenNeurons = 40                  # we use equal neurons for each hidden layer\n",
    "hiddenLayers = 2                    # amount of hidden layers\n",
    "activationFunctions = tf.nn.softmax    # activation functions of hidden layers\n",
    "###\n",
    "### 3. Train network\n",
    "###\n",
    "trainingMethod = TrainingMethod.GenerateDataDuringTraining\n",
    "\n",
    "xTest, yTest, yPredicted = train_and_test(generator, sizes, nTest, dataSeed, None, weightSeed, hiddenNeurons, hiddenLayers, activationFunctions, trainingMethod)\n",
    "    \n",
    "###\n",
    "### 3. Study results\n",
    "###   \n",
    "\n",
    "# show predicitions\n",
    "plot_results(\"Black & Scholes\", yPredicted, xTest, \"test inputs\", \"yPredicted\", yTest, sizes, True, False, None, trainingMethod)"
   ]
  },
  {
   "cell_type": "code",
   "execution_count": 47,
   "metadata": {},
   "outputs": [
    {
     "data": {
      "text/plain": [
       "array([[1.],\n",
       "       [1.],\n",
       "       [1.],\n",
       "       [1.],\n",
       "       [1.]])"
      ]
     },
     "execution_count": 47,
     "metadata": {},
     "output_type": "execute_result"
    }
   ],
   "source": [
    "from scipy.stats import norm\n",
    "import numpy as np\n",
    "a= np.random.random_sample(5)\n",
    "norm.cdf(a,-12,1).reshape([-1,1])"
   ]
  }
 ],
 "metadata": {
  "kernelspec": {
   "display_name": "Python 3.9.12 ('.venvNN': venv)",
   "language": "python",
   "name": "python3"
  },
  "language_info": {
   "codemirror_mode": {
    "name": "ipython",
    "version": 3
   },
   "file_extension": ".py",
   "mimetype": "text/x-python",
   "name": "python",
   "nbconvert_exporter": "python",
   "pygments_lexer": "ipython3",
   "version": "3.9.12"
  },
  "orig_nbformat": 4,
  "vscode": {
   "interpreter": {
    "hash": "872cbf6161ca578fc585ee76b37758f2668f1f857e52d586bffc068cf897595e"
   }
  }
 },
 "nbformat": 4,
 "nbformat_minor": 2
}
