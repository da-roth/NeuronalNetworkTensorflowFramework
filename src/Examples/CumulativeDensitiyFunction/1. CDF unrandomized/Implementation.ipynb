{
 "cells": [
  {
   "cell_type": "code",
   "execution_count": 2,
   "metadata": {},
   "outputs": [
    {
     "ename": "AttributeError",
     "evalue": "'DataImporter' object has no attribute 'train_df'",
     "output_type": "error",
     "traceback": [
      "\u001b[1;31m---------------------------------------------------------------------------\u001b[0m",
      "\u001b[1;31mAttributeError\u001b[0m                            Traceback (most recent call last)",
      "\u001b[1;32mc:\\Users\\DanielPrivateGitHub\\Documents\\GitHub\\NeuronalNetworkTensorflowFramework\\src\\Examples\\CumulativeDensitiyFunction\\1. CDF unrandomized\\Implementation.ipynb Cell 1\u001b[0m in \u001b[0;36m5\n\u001b[0;32m     <a href='vscode-notebook-cell:/c%3A/Users/DanielPrivateGitHub/Documents/GitHub/NeuronalNetworkTensorflowFramework/src/Examples/CumulativeDensitiyFunction/1.%20CDF%20unrandomized/Implementation.ipynb#W0sZmlsZQ%3D%3D?line=46'>47</a>\u001b[0m epochs \u001b[39m=\u001b[39m \u001b[39m20\u001b[39m\n\u001b[0;32m     <a href='vscode-notebook-cell:/c%3A/Users/DanielPrivateGitHub/Documents/GitHub/NeuronalNetworkTensorflowFramework/src/Examples/CumulativeDensitiyFunction/1.%20CDF%20unrandomized/Implementation.ipynb#W0sZmlsZQ%3D%3D?line=47'>48</a>\u001b[0m \u001b[39m###\u001b[39;00m\n\u001b[0;32m     <a href='vscode-notebook-cell:/c%3A/Users/DanielPrivateGitHub/Documents/GitHub/NeuronalNetworkTensorflowFramework/src/Examples/CumulativeDensitiyFunction/1.%20CDF%20unrandomized/Implementation.ipynb#W0sZmlsZQ%3D%3D?line=48'>49</a>\u001b[0m \u001b[39m### 3. Train network\u001b[39;00m\n\u001b[0;32m     <a href='vscode-notebook-cell:/c%3A/Users/DanielPrivateGitHub/Documents/GitHub/NeuronalNetworkTensorflowFramework/src/Examples/CumulativeDensitiyFunction/1.%20CDF%20unrandomized/Implementation.ipynb#W0sZmlsZQ%3D%3D?line=49'>50</a>\u001b[0m \u001b[39m###\u001b[39;00m\n\u001b[0;32m     <a href='vscode-notebook-cell:/c%3A/Users/DanielPrivateGitHub/Documents/GitHub/NeuronalNetworkTensorflowFramework/src/Examples/CumulativeDensitiyFunction/1.%20CDF%20unrandomized/Implementation.ipynb#W0sZmlsZQ%3D%3D?line=50'>51</a>\u001b[0m \u001b[39m##trainingMethod = TrainingMethod.Standard\u001b[39;00m\n\u001b[1;32m---> <a href='vscode-notebook-cell:/c%3A/Users/DanielPrivateGitHub/Documents/GitHub/NeuronalNetworkTensorflowFramework/src/Examples/CumulativeDensitiyFunction/1.%20CDF%20unrandomized/Implementation.ipynb#W0sZmlsZQ%3D%3D?line=52'>53</a>\u001b[0m xTest, yTest, yPredicted \u001b[39m=\u001b[39m train_and_test(generator, regressor, epochs \u001b[39m=\u001b[39;49m epochs)\n\u001b[0;32m     <a href='vscode-notebook-cell:/c%3A/Users/DanielPrivateGitHub/Documents/GitHub/NeuronalNetworkTensorflowFramework/src/Examples/CumulativeDensitiyFunction/1.%20CDF%20unrandomized/Implementation.ipynb#W0sZmlsZQ%3D%3D?line=54'>55</a>\u001b[0m \u001b[39m###\u001b[39;00m\n\u001b[0;32m     <a href='vscode-notebook-cell:/c%3A/Users/DanielPrivateGitHub/Documents/GitHub/NeuronalNetworkTensorflowFramework/src/Examples/CumulativeDensitiyFunction/1.%20CDF%20unrandomized/Implementation.ipynb#W0sZmlsZQ%3D%3D?line=55'>56</a>\u001b[0m \u001b[39m### 3. Study results\u001b[39;00m\n\u001b[0;32m     <a href='vscode-notebook-cell:/c%3A/Users/DanielPrivateGitHub/Documents/GitHub/NeuronalNetworkTensorflowFramework/src/Examples/CumulativeDensitiyFunction/1.%20CDF%20unrandomized/Implementation.ipynb#W0sZmlsZQ%3D%3D?line=56'>57</a>\u001b[0m \u001b[39m###   \u001b[39;00m\n\u001b[0;32m     <a href='vscode-notebook-cell:/c%3A/Users/DanielPrivateGitHub/Documents/GitHub/NeuronalNetworkTensorflowFramework/src/Examples/CumulativeDensitiyFunction/1.%20CDF%20unrandomized/Implementation.ipynb#W0sZmlsZQ%3D%3D?line=57'>58</a>\u001b[0m \n\u001b[0;32m     <a href='vscode-notebook-cell:/c%3A/Users/DanielPrivateGitHub/Documents/GitHub/NeuronalNetworkTensorflowFramework/src/Examples/CumulativeDensitiyFunction/1.%20CDF%20unrandomized/Implementation.ipynb#W0sZmlsZQ%3D%3D?line=58'>59</a>\u001b[0m \u001b[39m# show predicitions\u001b[39;00m\n\u001b[0;32m     <a href='vscode-notebook-cell:/c%3A/Users/DanielPrivateGitHub/Documents/GitHub/NeuronalNetworkTensorflowFramework/src/Examples/CumulativeDensitiyFunction/1.%20CDF%20unrandomized/Implementation.ipynb#W0sZmlsZQ%3D%3D?line=59'>60</a>\u001b[0m plot_results(\u001b[39m\"\u001b[39m\u001b[39mCDF unrandomized deterministic inputs\u001b[39m\u001b[39m\"\u001b[39m, yPredicted, xTest, \u001b[39m\"\u001b[39m\u001b[39mx\u001b[39m\u001b[39m\"\u001b[39m, \u001b[39m\"\u001b[39m\u001b[39mCDF(x)\u001b[39m\u001b[39m\"\u001b[39m, yTest, generator, \u001b[39mTrue\u001b[39;00m, \u001b[39mFalse\u001b[39;00m, \u001b[39mNone\u001b[39;00m, generator\u001b[39m.\u001b[39mTrainMethod)\n",
      "File \u001b[1;32mc:\\Users\\DanielPrivateGitHub\\Documents\\GitHub\\NeuronalNetworkTensorflowFramework\\montecarlolearning\\train_and_test.py:36\u001b[0m, in \u001b[0;36mtrain_and_test\u001b[1;34m(generator, regressor, epochs, learning_rate_schedule, batches_per_epoch, min_batch_size, biasNeuron)\u001b[0m\n\u001b[0;32m     20\u001b[0m \u001b[39mdef\u001b[39;00m \u001b[39mtrain_and_test\u001b[39m(generator,  \n\u001b[0;32m     21\u001b[0m          regressor,\n\u001b[0;32m     22\u001b[0m          epochs\u001b[39m=\u001b[39m\u001b[39m1\u001b[39m, \n\u001b[1;32m   (...)\u001b[0m\n\u001b[0;32m     30\u001b[0m          min_batch_size\u001b[39m=\u001b[39m\u001b[39m20\u001b[39m,\n\u001b[0;32m     31\u001b[0m          biasNeuron\u001b[39m=\u001b[39m\u001b[39mFalse\u001b[39;00m):\n\u001b[0;32m     33\u001b[0m     \u001b[39mif\u001b[39;00m generator\u001b[39m.\u001b[39mTrainMethod \u001b[39m==\u001b[39m TrainingMethod\u001b[39m.\u001b[39mStandard:\n\u001b[0;32m     34\u001b[0m         \u001b[39m# 1. Simulation of training set, but only for max(sizes), other sizes will use these\u001b[39;00m\n\u001b[0;32m     35\u001b[0m         \u001b[39m#print(\"simulating training, valid and test sets\")\u001b[39;00m\n\u001b[1;32m---> 36\u001b[0m         xTrain, yTrain, _unused \u001b[39m=\u001b[39m generator\u001b[39m.\u001b[39;49mtrainingSet(\u001b[39mmax\u001b[39;49m(generator\u001b[39m.\u001b[39;49mtrainingSetSizes), trainSeed\u001b[39m=\u001b[39;49mgenerator\u001b[39m.\u001b[39;49mdataSeed)\n\u001b[0;32m     37\u001b[0m         xTest, yTest, _unused, _unused2 \u001b[39m=\u001b[39m generator\u001b[39m.\u001b[39mtestSet(num\u001b[39m=\u001b[39mgenerator\u001b[39m.\u001b[39mnTest, testSeed\u001b[39m=\u001b[39mgenerator\u001b[39m.\u001b[39mtestSeed)\n\u001b[0;32m     38\u001b[0m         \u001b[39m#print(\"done\")\u001b[39;00m\n\u001b[0;32m     39\u001b[0m \n\u001b[0;32m     40\u001b[0m         \u001b[39m# 2. Neural network initialization \u001b[39;00m\n\u001b[0;32m     41\u001b[0m         \u001b[39m#print(\"initializing neural appropximator\")\u001b[39;00m\n\u001b[0;32m     42\u001b[0m         \u001b[39m#print(\"done\")\u001b[39;00m\n",
      "File \u001b[1;32mc:\\Users\\DanielPrivateGitHub\\Documents\\GitHub\\NeuronalNetworkTensorflowFramework\\montecarlolearning\\DataImporter.py:154\u001b[0m, in \u001b[0;36mDataImporter.trainingSet\u001b[1;34m(self, m, trainSeed)\u001b[0m\n\u001b[0;32m    152\u001b[0m \u001b[39melse\u001b[39;00m:\n\u001b[0;32m    153\u001b[0m     \u001b[39mself\u001b[39m\u001b[39m.\u001b[39m_train_df \u001b[39m=\u001b[39m \u001b[39mself\u001b[39m\u001b[39m.\u001b[39m_df\u001b[39m.\u001b[39msample(frac\u001b[39m=\u001b[39m\u001b[39mself\u001b[39m\u001b[39m.\u001b[39mtrainTestRatio, random_state\u001b[39m=\u001b[39mtrainSeed)\n\u001b[1;32m--> 154\u001b[0m xTrain \u001b[39m=\u001b[39m \u001b[39mself\u001b[39;49m\u001b[39m.\u001b[39;49mtrain_df\u001b[39m.\u001b[39mdrop(\u001b[39mself\u001b[39m\u001b[39m.\u001b[39m_outputName,axis\u001b[39m=\u001b[39m\u001b[39m1\u001b[39m)\n\u001b[0;32m    155\u001b[0m yTrain \u001b[39m=\u001b[39m \u001b[39mself\u001b[39m\u001b[39m.\u001b[39mtrain_df\u001b[39m.\u001b[39mdrop(\u001b[39mself\u001b[39m\u001b[39m.\u001b[39m_inputName,axis\u001b[39m=\u001b[39m\u001b[39m1\u001b[39m)\n\u001b[0;32m    156\u001b[0m \u001b[39mreturn\u001b[39;00m xTrain\u001b[39m.\u001b[39mvalues, yTrain\u001b[39m.\u001b[39mvalues, \u001b[39mNone\u001b[39;00m\n",
      "\u001b[1;31mAttributeError\u001b[0m: 'DataImporter' object has no attribute 'train_df'"
     ]
    }
   ],
   "source": [
    "### Copy of Main.py as a juypter notebook to visualize results\n",
    "\n",
    "#del sys.modules['DataImporter']\n",
    "\n",
    "###\n",
    "### 0. Import packages and references\n",
    "###\n",
    "### Import framework\n",
    "import os\n",
    "mainDirectory = os.path.abspath(os.path.join(os.getcwd() , '..','..', '..','..'))\n",
    "packageFile = os.path.abspath(os.path.join(mainDirectory, 'montecarlolearning', 'packages.py'))\n",
    "exec(open(packageFile).read())\n",
    "\n",
    "### - dataSeed = seed for simulations or (for csv input) for randomization of csv\n",
    "weightSeed = 1 \n",
    "\n",
    "###\n",
    "### 1. Training data Generator/Importer\n",
    "###\n",
    "\n",
    "# 10^4 data data points\n",
    "generator = DataImporter()\n",
    "#print(generator.path == None)\n",
    "generator.set_path('C:/dev/NeuronalNetworkTensorflowFramework/src/Examples/CumulativeDensitiyFunction/1. CDF unrandomized/cdf_deterministic_data.csv')\n",
    "generator.set_inputName('x')\n",
    "generator.set_outputName('CDF(x)')\n",
    "generator.set_trainTestRatio(0.8)\n",
    "#generator.set_testDataPath('C:/dev/NeuronalNetworkTensorflowFramework/src/Examples/CumulativeDensitiyFunction/1. CDF unrandomized/cdf_deterministic_data.csv')\n",
    "generator.set_randomized(True)\n",
    "generator.set_trainingSetSizes([100,1000,10000])\n",
    "generator.set_dataSeed(1)\n",
    "\n",
    "###\n",
    "### 2. Set Nueral network structure / Hyperparameters\n",
    "### \n",
    "\n",
    "regressor = Neural_Approximator()\n",
    "regressor.set_generator(generator)\n",
    "regressor.set_hiddenNeurons(20)\n",
    "regressor.set_hiddenLayers(3)\n",
    "regressor.set_activationFunctionsHidden([tf.nn.tanh])\n",
    "\n",
    "#hiddenNeurons = 20               # we use equal neurons for each hidden layer\n",
    "#hiddenLayers = 3                # amount of hidden layers\n",
    "#activationFunctionsHidden = [tf.nn.tanh]   # activation functions of hidden layers\n",
    "\n",
    "epochs = 20\n",
    "###\n",
    "### 3. Train network\n",
    "###\n",
    "##trainingMethod = TrainingMethod.Standard\n",
    "\n",
    "xTest, yTest, yPredicted = train_and_test(generator, regressor, epochs = epochs)\n",
    "    \n",
    "###\n",
    "### 3. Study results\n",
    "###   \n",
    "\n",
    "# show predicitions\n",
    "plot_results(\"CDF unrandomized deterministic inputs\", yPredicted, xTest, \"x\", \"CDF(x)\", yTest, generator, True, False, None, generator.TrainMethod)"
   ]
  }
 ],
 "metadata": {
  "kernelspec": {
   "display_name": ".venvNN",
   "language": "python",
   "name": "python3"
  },
  "language_info": {
   "codemirror_mode": {
    "name": "ipython",
    "version": 3
   },
   "file_extension": ".py",
   "mimetype": "text/x-python",
   "name": "python",
   "nbconvert_exporter": "python",
   "pygments_lexer": "ipython3",
   "version": "3.10.10"
  },
  "orig_nbformat": 4,
  "vscode": {
   "interpreter": {
    "hash": "83a8566224840326395a21c083192bd4c5adbde2ed4f12bcb51b671fb460c3a0"
   }
  }
 },
 "nbformat": 4,
 "nbformat_minor": 2
}
