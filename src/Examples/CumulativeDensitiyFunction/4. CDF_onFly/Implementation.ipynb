{
 "cells": [
  {
   "cell_type": "code",
   "execution_count": 1,
   "metadata": {},
   "outputs": [
    {
     "name": "stdout",
     "output_type": "stream",
     "text": [
      "TF version = 2.10.0\n",
      "TF version = 2.10.0\n",
      "TF version = 2.10.0\n",
      "TF version = 2.10.0\n",
      "Simulating initial training set and test set\n",
      "done\n",
      "initializing neural appropximator\n",
      "Neural network initialized with the following settings:\n",
      "Neurons per layer: 40\n",
      "Amount of hidden layers: 4\n",
      "Activations functions: <function sigmoid at 0x000001AA3AE48A60>\n",
      "done\n",
      "Training will be done with the following settings:\n",
      "\n",
      "min_batch_size: 30\n",
      "batches per epoch: 10\n",
      "Hence, used batch_size will be: 1000\n",
      "epochs: 1000\n",
      "learning_rate_schedule: [(0.0, 0.5), (0.2, 0.1), (0.6, 0.01), (0.9, 0.0001), (1.0, 1e-05)]\n",
      "\n",
      " Train started:\n",
      "RMSE after 100 epochs is 1.1158032447438355\n",
      "RMSE after 200 epochs is 1.1158261468083555\n",
      "RMSE after 300 epochs is 1.1158128616217484\n",
      "RMSE after 400 epochs is 1.1158018957658606\n",
      "RMSE after 500 epochs is 1.11580326314525\n",
      "RMSE after 600 epochs is 1.115835137299044\n",
      "RMSE after 700 epochs is 1.1158335846737892\n",
      "RMSE after 800 epochs is 1.1158406969387566\n",
      "RMSE after 900 epochs is 1.1158628521064333\n",
      "RMSE after 1000 epochs is 1.1158665530962242\n",
      "Training done.\n"
     ]
    },
    {
     "ename": "TypeError",
     "evalue": "unsupported operand type(s) for //: 'int' and 'list'",
     "output_type": "error",
     "traceback": [
      "\u001b[1;31m---------------------------------------------------------------------------\u001b[0m",
      "\u001b[1;31mTypeError\u001b[0m                                 Traceback (most recent call last)",
      "Cell \u001b[1;32mIn [1], line 34\u001b[0m\n\u001b[0;32m     29\u001b[0m \u001b[39m###\u001b[39;00m\n\u001b[0;32m     30\u001b[0m \u001b[39m### 3. Train network\u001b[39;00m\n\u001b[0;32m     31\u001b[0m \u001b[39m###\u001b[39;00m\n\u001b[0;32m     32\u001b[0m trainingMethod \u001b[39m=\u001b[39m TrainingMethod\u001b[39m.\u001b[39mGenerateDataDuringTraining\n\u001b[1;32m---> 34\u001b[0m xTest, yTest, yPredicted \u001b[39m=\u001b[39m train_and_test(generator, sizes, nTest, dataSeed, \u001b[39mNone\u001b[39;49;00m, weightSeed, hiddenNeurons, hiddenLayers, activationFunctions, trainingMethod)\n\u001b[0;32m     36\u001b[0m \u001b[39m###\u001b[39;00m\n\u001b[0;32m     37\u001b[0m \u001b[39m### 3. Study results\u001b[39;00m\n\u001b[0;32m     38\u001b[0m \u001b[39m###   \u001b[39;00m\n\u001b[0;32m     39\u001b[0m \n\u001b[0;32m     40\u001b[0m \u001b[39m# show predicitions\u001b[39;00m\n\u001b[0;32m     41\u001b[0m plot_results(\u001b[39m\"\u001b[39m\u001b[39mCDF random inputs\u001b[39m\u001b[39m\"\u001b[39m, yPredicted, xTest, \u001b[39m\"\u001b[39m\u001b[39mx\u001b[39m\u001b[39m\"\u001b[39m, \u001b[39m\"\u001b[39m\u001b[39mCDF(x)\u001b[39m\u001b[39m\"\u001b[39m, yTest, sizes, \u001b[39mTrue\u001b[39;00m, \u001b[39mFalse\u001b[39;00m, \u001b[39mNone\u001b[39;00m, trainingMethod)\n",
      "File \u001b[1;32mC:\\dev/MonteCarloLearning/src/NNFramework\\train_and_test.py:91\u001b[0m, in \u001b[0;36mtrain_and_test\u001b[1;34m(generator, sizes, nTest, dataSeed, testSeed, weightSeed, hiddenNeurons, hiddenLayers, activationFunctions, trainingMethod, testFrequency, outputDimension, deltidx, epochs, learning_rate_schedule, batches_per_epoch, min_batch_size)\u001b[0m\n\u001b[0;32m     89\u001b[0m \u001b[39m# 4. Train network\u001b[39;00m\n\u001b[0;32m     90\u001b[0m t0 \u001b[39m=\u001b[39m time\u001b[39m.\u001b[39mtime()\n\u001b[1;32m---> 91\u001b[0m regressor\u001b[39m.\u001b[39;49mtrain(\u001b[39m\"\u001b[39;49m\u001b[39mstandard training\u001b[39;49m\u001b[39m\"\u001b[39;49m,regressor,\u001b[39m1\u001b[39;49m,learning_rate_schedule,batches_per_epoch,min_batch_size)\n\u001b[0;32m     92\u001b[0m t1 \u001b[39m=\u001b[39m time\u001b[39m.\u001b[39mtime()\n\u001b[0;32m     94\u001b[0m \u001b[39mif\u001b[39;00m i \u001b[39m%\u001b[39m testFrequency \u001b[39m==\u001b[39m \u001b[39m0\u001b[39m:\n",
      "File \u001b[1;32mC:\\dev/MonteCarloLearning/src/NNFramework\\Neural_Approximator.py:170\u001b[0m, in \u001b[0;36mNeural_Approximator.train\u001b[1;34m(self, description, epochs, learning_rate_schedule, batches_per_epoch, min_batch_size, reinit, callback, callback_epochs)\u001b[0m\n\u001b[0;32m    156\u001b[0m \u001b[39mdef\u001b[39;00m \u001b[39mtrain\u001b[39m(\u001b[39mself\u001b[39m,            \n\u001b[0;32m    157\u001b[0m           description,\n\u001b[0;32m    158\u001b[0m           \u001b[39m# training params\u001b[39;00m\n\u001b[1;32m   (...)\u001b[0m\n\u001b[0;32m    167\u001b[0m           callback\u001b[39m=\u001b[39m\u001b[39mNone\u001b[39;00m,           \u001b[39m# arbitrary callable\u001b[39;00m\n\u001b[0;32m    168\u001b[0m           callback_epochs\u001b[39m=\u001b[39m[]):     \u001b[39m# call after what epochs, e.g. [5, 20]\u001b[39;00m\n\u001b[1;32m--> 170\u001b[0m     train(description, \n\u001b[0;32m    171\u001b[0m           \u001b[39mself\u001b[39;49m, \n\u001b[0;32m    172\u001b[0m           epochs, \n\u001b[0;32m    173\u001b[0m           learning_rate_schedule, \n\u001b[0;32m    174\u001b[0m           batches_per_epoch, \n\u001b[0;32m    175\u001b[0m           min_batch_size,\n\u001b[0;32m    176\u001b[0m           reinit, \n\u001b[0;32m    177\u001b[0m           callback, \n\u001b[0;32m    178\u001b[0m           callback_epochs)\n",
      "File \u001b[1;32mC:\\dev/MonteCarloLearning/src/NNFramework\\train.py:21\u001b[0m, in \u001b[0;36mtrain\u001b[1;34m(description, approximator, epochs, learning_rate_schedule, batches_per_epoch, min_batch_size, reinit, callback, callback_epochs)\u001b[0m\n\u001b[0;32m      6\u001b[0m \u001b[39mdef\u001b[39;00m \u001b[39mtrain\u001b[39m(description,\n\u001b[0;32m      7\u001b[0m           \u001b[39m# neural approximator\u001b[39;00m\n\u001b[0;32m      8\u001b[0m           approximator,              \n\u001b[1;32m   (...)\u001b[0m\n\u001b[0;32m     19\u001b[0m               \n\u001b[0;32m     20\u001b[0m     \u001b[39m# batching\u001b[39;00m\n\u001b[1;32m---> 21\u001b[0m     batch_size \u001b[39m=\u001b[39m \u001b[39mmax\u001b[39m(min_batch_size, approximator\u001b[39m.\u001b[39;49mm \u001b[39m/\u001b[39;49m\u001b[39m/\u001b[39;49m batches_per_epoch)\n\u001b[0;32m     23\u001b[0m     \u001b[39m# one-cycle learning rate sechedule\u001b[39;00m\n\u001b[0;32m     24\u001b[0m     lr_schedule_epochs, lr_schedule_rates \u001b[39m=\u001b[39m \u001b[39mzip\u001b[39m(\u001b[39m*\u001b[39mlearning_rate_schedule)\n",
      "\u001b[1;31mTypeError\u001b[0m: unsupported operand type(s) for //: 'int' and 'list'"
     ]
    }
   ],
   "source": [
    "### Copy of Main.py as a juypter notebook to visualize results\n",
    "\n",
    "###\n",
    "### 0. Import packages and references\n",
    "###\n",
    "### - dataSeed = seed for simulations or (for csv input) for randomization of csv\n",
    "\n",
    "exec(open('C:/dev/NeuronalNetworkTensorflowFramework/src/NNFramework/packages.py').read())\n",
    "dataSeed = 1 \n",
    "weightSeed = 1 \n",
    "\n",
    "\n",
    "###\n",
    "### 1. Training data\n",
    "###\n",
    "\n",
    "generator = CDF()\n",
    "sizes = [10000,100] # [sizePerTrainingStep, trainingSteps]\n",
    "nTest = 2000 # Test set size\n",
    "\n",
    "\n",
    "###\n",
    "### 2. Set Nueral network structure / Hyperparameters\n",
    "### \n",
    "\n",
    "hiddenNeurons = 40               # we use equal neurons for each hidden layer\n",
    "hiddenLayers = 4                 # amount of hidden layers\n",
    "activationFunctions = tf.nn.sigmoid    # activation functions of hidden layers\n",
    "###\n",
    "### 3. Train network\n",
    "###\n",
    "trainingMethod = TrainingMethod.GenerateDataDuringTraining\n",
    "\n",
    "xTest, yTest, yPredicted = train_and_test(generator, sizes, nTest, dataSeed, None, weightSeed, hiddenNeurons, hiddenLayers, activationFunctions, trainingMethod)\n",
    "    \n",
    "###\n",
    "### 3. Study results\n",
    "###   \n",
    "\n",
    "# show predicitions\n",
    "plot_results(\"CDF random inputs\", yPredicted, xTest, \"x\", \"CDF(x)\", yTest, sizes, True, False, None, trainingMethod)"
   ]
  }
 ],
 "metadata": {
  "kernelspec": {
   "display_name": "Python 3.9.12 ('.venvNN': venv)",
   "language": "python",
   "name": "python3"
  },
  "language_info": {
   "codemirror_mode": {
    "name": "ipython",
    "version": 3
   },
   "file_extension": ".py",
   "mimetype": "text/x-python",
   "name": "python",
   "nbconvert_exporter": "python",
   "pygments_lexer": "ipython3",
   "version": "3.9.12"
  },
  "orig_nbformat": 4,
  "vscode": {
   "interpreter": {
    "hash": "872cbf6161ca578fc585ee76b37758f2668f1f857e52d586bffc068cf897595e"
   }
  }
 },
 "nbformat": 4,
 "nbformat_minor": 2
}
