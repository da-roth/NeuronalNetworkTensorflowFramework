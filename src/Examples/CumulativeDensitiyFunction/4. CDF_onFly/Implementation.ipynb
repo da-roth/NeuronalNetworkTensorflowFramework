{
 "cells": [
  {
   "cell_type": "code",
   "execution_count": 2,
   "metadata": {},
   "outputs": [
    {
     "ename": "ModuleNotFoundError",
     "evalue": "No module named 'tensorflow'",
     "output_type": "error",
     "traceback": [
      "\u001b[1;31m---------------------------------------------------------------------------\u001b[0m",
      "\u001b[1;31mModuleNotFoundError\u001b[0m                       Traceback (most recent call last)",
      "Cell \u001b[1;32mIn [2], line 10\u001b[0m\n\u001b[0;32m      8\u001b[0m mainDirectory \u001b[39m=\u001b[39m os\u001b[39m.\u001b[39mpath\u001b[39m.\u001b[39mabspath(os\u001b[39m.\u001b[39mpath\u001b[39m.\u001b[39mjoin(os\u001b[39m.\u001b[39mgetcwd() , \u001b[39m'\u001b[39m\u001b[39m..\u001b[39m\u001b[39m'\u001b[39m,\u001b[39m'\u001b[39m\u001b[39m..\u001b[39m\u001b[39m'\u001b[39m, \u001b[39m'\u001b[39m\u001b[39m..\u001b[39m\u001b[39m'\u001b[39m,\u001b[39m'\u001b[39m\u001b[39m..\u001b[39m\u001b[39m'\u001b[39m))\n\u001b[0;32m      9\u001b[0m packageFile \u001b[39m=\u001b[39m os\u001b[39m.\u001b[39mpath\u001b[39m.\u001b[39mabspath(os\u001b[39m.\u001b[39mpath\u001b[39m.\u001b[39mjoin(mainDirectory, \u001b[39m'\u001b[39m\u001b[39mmontecarlolearning\u001b[39m\u001b[39m'\u001b[39m, \u001b[39m'\u001b[39m\u001b[39mpackages.py\u001b[39m\u001b[39m'\u001b[39m))\n\u001b[1;32m---> 10\u001b[0m exec(\u001b[39mopen\u001b[39;49m(packageFile)\u001b[39m.\u001b[39;49mread())\n\u001b[0;32m     11\u001b[0m \u001b[39m### - dataSeed = seed for simulations or (for csv input) for randomization of csv\u001b[39;00m\n\u001b[0;32m     12\u001b[0m dataSeed \u001b[39m=\u001b[39m \u001b[39m1\u001b[39m \n",
      "File \u001b[1;32m<string>:7\u001b[0m\n",
      "\u001b[1;31mModuleNotFoundError\u001b[0m: No module named 'tensorflow'"
     ]
    }
   ],
   "source": [
    "### Copy of Main.py as a juypter notebook to visualize results\n",
    "\n",
    "###\n",
    "### 0. Import packages and references\n",
    "###\n",
    "### Import framework\n",
    "import os\n",
    "mainDirectory = os.path.abspath(os.path.join(os.getcwd() , '..','..', '..','..'))\n",
    "packageFile = os.path.abspath(os.path.join(mainDirectory, 'montecarlolearning', 'packages.py'))\n",
    "exec(open(packageFile).read())\n",
    "### - dataSeed = seed for simulations or (for csv input) for randomization of csv\n",
    "dataSeed = 1 \n",
    "weightSeed = 1 \n",
    "\n",
    "###\n",
    "### 1. Training data\n",
    "###\n",
    "#from CDF import *\n",
    "generator = CDF()\n",
    "sizes = [1000,100] # [sizePerTrainingStep, trainingSteps]\n",
    "nTest = 2000 # Test set size\n",
    "\n",
    "###\n",
    "### 2. Set Nueral network structure / Hyperparameters\n",
    "### \n",
    "\n",
    "hiddenNeurons = 20                      # we use equal neurons for each hidden layer\n",
    "hiddenLayers = 3                        # amount of hidden layers\n",
    "activationFunctionsHidden = tf.nn.tanh   # activation functions of hidden layers\n",
    "batches_per_epoch = sizes[0]\n",
    "\n",
    "###\n",
    "### 3. Train network\n",
    "###\n",
    "\n",
    "trainingMethod = TrainingMethod.GenerateDataDuringTraining\n",
    "xTest, yTest, yPredicted = train_and_test(generator, sizes, nTest, dataSeed, None, weightSeed, hiddenNeurons, hiddenLayers, activationFunctionsHidden, trainingMethod = trainingMethod, batches_per_epoch = batches_per_epoch)\n",
    "    \n",
    "###\n",
    "### 3. Study results\n",
    "###   \n",
    "\n",
    "# show predicitions\n",
    "plot_results(\"CDF random inputs\", yPredicted, xTest, \"x\", \"CDF(x)\", yTest, sizes, True, False, None, trainingMethod)"
   ]
  }
 ],
 "metadata": {
  "kernelspec": {
   "display_name": "Python 3",
   "language": "python",
   "name": "python3"
  },
  "language_info": {
   "codemirror_mode": {
    "name": "ipython",
    "version": 3
   },
   "file_extension": ".py",
   "mimetype": "text/x-python",
   "name": "python",
   "nbconvert_exporter": "python",
   "pygments_lexer": "ipython3",
   "version": "3.10.8"
  },
  "orig_nbformat": 4,
  "vscode": {
   "interpreter": {
    "hash": "313fb866d296591a8602be99120a1066565defaeee60b27e37b02f0bc53924d5"
   }
  }
 },
 "nbformat": 4,
 "nbformat_minor": 2
}
