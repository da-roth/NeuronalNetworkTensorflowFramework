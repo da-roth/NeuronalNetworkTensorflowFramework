{
 "cells": [
  {
   "cell_type": "code",
   "execution_count": null,
   "metadata": {},
   "outputs": [],
   "source": [
    "###\n",
    "### 0. Import packages and references\n",
    "###\n",
    "\n",
    "### Import framework\n",
    "import os\n",
    "mainDirectory = os.path.abspath(os.path.join(os.getcwd() , '..', '..','..'))\n",
    "packageFile = os.path.abspath(os.path.join(mainDirectory, 'montecarlolearning', 'packages.py'))\n",
    "exec(open(packageFile).read())\n",
    "\n",
    "###\n",
    "### 1. Training data Generator/Importer\n",
    "###\n",
    "\n",
    "Generator = DataImporter()\n",
    "# 10^4 data data points\n",
    "Generator.set_path(os.path.join(mainDirectory, 'src', 'Examples', 'CumulativeDensitiyFunction', 'cdf_deterministic_data.csv'))\n",
    "Generator.set_inputName('x')\n",
    "Generator.set_outputName('CDF(x)')\n",
    "Generator.set_trainTestRatio(0.8)\n",
    "Generator.set_randomized(False)\n",
    "Generator.set_trainingSetSizes([100,1000,10000])\n",
    "Generator.set_dataSeed(1)\n",
    "\n",
    "###\n",
    "### 2. Set Nueral network structure / Hyperparameters\n",
    "### \n",
    "\n",
    "Regressor = Neural_Approximator()\n",
    "Regressor.set_Generator(Generator)\n",
    "Regressor.set_hiddenNeurons(20)\n",
    "Regressor.set_hiddenLayers(3)\n",
    "Regressor.set_activationFunctionsHidden([tf.nn.tanh])\n",
    "Regressor.set_weight_seed(1)\n",
    "\n",
    "###\n",
    "### 3. Training settings\n",
    "### \n",
    "\n",
    "TrainSettings = TrainingSettings()\n",
    "TrainSettings.set_epochs(20)\n",
    "TrainSettings.set_batches_per_epoch(10)\n",
    "\n",
    "###\n",
    "### 4. Train and evaluate\n",
    "###\n",
    "xTest, yTest, yPredicted = train_and_test(Generator, Regressor, TrainSettings)\n",
    "plot_results(\"CDF unrandomized deterministic inputs\", yPredicted, xTest, yTest, Generator)"
   ]
  },
  {
   "cell_type": "code",
   "execution_count": null,
   "metadata": {},
   "outputs": [],
   "source": [
    "Generator.set_randomized(True)\n",
    "\n",
    "###\n",
    "### 3. Train network and Study results\n",
    "### Comment: For different trainingSetSizes the neural network reset and not saved, hence train and evaluation of yPredicted are done together currently\n",
    "###\n",
    "xTest, yTest, yPredicted = train_and_test(Generator, Regressor, TrainSettings)\n",
    "plot_results(\"CDF unrandomized deterministic inputs\", yPredicted, xTest, yTest, Generator)"
   ]
  },
  {
   "cell_type": "code",
   "execution_count": null,
   "metadata": {},
   "outputs": [],
   "source": [
    "Generator.set_path(os.path.join(mainDirectory, 'src', 'Examples', 'CumulativeDensitiyFunction', 'cdf_randomInputs_data.csv'))\n",
    "Generator.set_randomized(False)\n",
    "\n",
    "###\n",
    "### 3. Train network and Study results\n",
    "### Comment: For different trainingSetSizes the neural network reset and not saved, hence train and evaluation of yPredicted are done together currently\n",
    "###\n",
    "xTest, yTest, yPredicted = train_and_test(Generator, Regressor, TrainSettings)\n",
    "plot_results(\"CDF unrandomized deterministic inputs\", yPredicted, xTest, yTest, Generator)"
   ]
  },
  {
   "cell_type": "code",
   "execution_count": null,
   "metadata": {},
   "outputs": [],
   "source": [
    "Generator = CDF()\n",
    "Generator.set_inputName('x')\n",
    "Generator.set_outputName('CDF(x)')\n",
    "\n",
    "###\n",
    "### 2. Set Nueral network structure / Hyperparameters\n",
    "### \n",
    "\n",
    "TrainSettings.set_min_batch_size(1)\n",
    "TrainSettings.set_test_frequency(10)\n",
    "TrainSettings.set_nTest(2000)\n",
    "TrainSettings.set_samplesPerStep(1000)\n",
    "TrainSettings.set_trainingSteps(10)\n",
    "\n",
    "###\n",
    "### 3. Train network and Study results\n",
    "### Comment: For different trainingSetSizes the neural network reset and not saved, hence train and evaluation of yPredicted are done together currently\n",
    "###\n",
    "xTest, yTest, yPredicted = train_and_test(Generator, Regressor, TrainSettings)\n",
    "plot_results(\"predicted vs. expected\", yPredicted, xTest, yTest, Generator)"
   ]
  }
 ],
 "metadata": {
  "kernelspec": {
   "display_name": ".venvNN",
   "language": "python",
   "name": "python3"
  },
  "language_info": {
   "codemirror_mode": {
    "name": "ipython",
    "version": 3
   },
   "file_extension": ".py",
   "mimetype": "text/x-python",
   "name": "python",
   "nbconvert_exporter": "python",
   "pygments_lexer": "ipython3",
   "version": "3.10.11"
  },
  "orig_nbformat": 4,
  "vscode": {
   "interpreter": {
    "hash": "83a8566224840326395a21c083192bd4c5adbde2ed4f12bcb51b671fb460c3a0"
   }
  }
 },
 "nbformat": 4,
 "nbformat_minor": 2
}
