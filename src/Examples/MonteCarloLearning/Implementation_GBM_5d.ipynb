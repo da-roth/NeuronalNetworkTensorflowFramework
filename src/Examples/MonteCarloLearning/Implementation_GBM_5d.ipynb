{
 "cells": [
  {
   "cell_type": "code",
   "execution_count": 1,
   "metadata": {},
   "outputs": [
    {
     "name": "stdout",
     "output_type": "stream",
     "text": [
      "GPU support =  False\n",
      "<tensorflow.python.framework.ops.Graph object at 0x0000026AC6E1FEE0>\n",
      "RMSE after 100 training steps is [0.22827498]\n",
      "RMSE after 200 training steps is [0.17614886]\n",
      "RMSE after 300 training steps is [0.15694293]\n",
      "RMSE after 400 training steps is [0.17428846]\n",
      "RMSE after 500 training steps is [0.22862722]\n"
     ]
    },
    {
     "ename": "KeyboardInterrupt",
     "evalue": "",
     "output_type": "error",
     "traceback": [
      "\u001b[1;31m---------------------------------------------------------------------------\u001b[0m",
      "\u001b[1;31mKeyboardInterrupt\u001b[0m                         Traceback (most recent call last)",
      "\u001b[1;32mc:\\Users\\DanielPrivateGitHub\\Documents\\GitHub\\NeuronalNetworkTensorflowFramework\\src\\Examples\\MonteCarloLearning\\Implementation_GBM_5d.ipynb Cell 1\u001b[0m in \u001b[0;36m5\n\u001b[0;32m     <a href='vscode-notebook-cell:/c%3A/Users/DanielPrivateGitHub/Documents/GitHub/NeuronalNetworkTensorflowFramework/src/Examples/MonteCarloLearning/Implementation_GBM_5d.ipynb#W0sZmlsZQ%3D%3D?line=47'>48</a>\u001b[0m TrainSettings\u001b[39m.\u001b[39mset_trainingSteps(\u001b[39m1000\u001b[39m)\n\u001b[0;32m     <a href='vscode-notebook-cell:/c%3A/Users/DanielPrivateGitHub/Documents/GitHub/NeuronalNetworkTensorflowFramework/src/Examples/MonteCarloLearning/Implementation_GBM_5d.ipynb#W0sZmlsZQ%3D%3D?line=50'>51</a>\u001b[0m \u001b[39m###\u001b[39;00m\n\u001b[0;32m     <a href='vscode-notebook-cell:/c%3A/Users/DanielPrivateGitHub/Documents/GitHub/NeuronalNetworkTensorflowFramework/src/Examples/MonteCarloLearning/Implementation_GBM_5d.ipynb#W0sZmlsZQ%3D%3D?line=51'>52</a>\u001b[0m \u001b[39m### 3. Train network and Study results\u001b[39;00m\n\u001b[0;32m     <a href='vscode-notebook-cell:/c%3A/Users/DanielPrivateGitHub/Documents/GitHub/NeuronalNetworkTensorflowFramework/src/Examples/MonteCarloLearning/Implementation_GBM_5d.ipynb#W0sZmlsZQ%3D%3D?line=52'>53</a>\u001b[0m \u001b[39m### Comment: For different trainingSetSizes the neural network reset and not saved, hence train and evaluation of yPredicted are done together currently\u001b[39;00m\n\u001b[0;32m     <a href='vscode-notebook-cell:/c%3A/Users/DanielPrivateGitHub/Documents/GitHub/NeuronalNetworkTensorflowFramework/src/Examples/MonteCarloLearning/Implementation_GBM_5d.ipynb#W0sZmlsZQ%3D%3D?line=53'>54</a>\u001b[0m \u001b[39m###\u001b[39;00m\n\u001b[1;32m---> <a href='vscode-notebook-cell:/c%3A/Users/DanielPrivateGitHub/Documents/GitHub/NeuronalNetworkTensorflowFramework/src/Examples/MonteCarloLearning/Implementation_GBM_5d.ipynb#W0sZmlsZQ%3D%3D?line=54'>55</a>\u001b[0m xTest, yTest, yPredicted \u001b[39m=\u001b[39m train_and_test(Generator, Regressor, TrainSettings)\n\u001b[0;32m     <a href='vscode-notebook-cell:/c%3A/Users/DanielPrivateGitHub/Documents/GitHub/NeuronalNetworkTensorflowFramework/src/Examples/MonteCarloLearning/Implementation_GBM_5d.ipynb#W0sZmlsZQ%3D%3D?line=55'>56</a>\u001b[0m plot_results(\u001b[39m\"\u001b[39m\u001b[39mpredicted vs. expected\u001b[39m\u001b[39m\"\u001b[39m, yPredicted, xTest, yTest, Generator)\n",
      "File \u001b[1;32mc:\\Users\\DanielPrivateGitHub\\Documents\\GitHub\\NeuronalNetworkTensorflowFramework\\montecarlolearning\\train_and_test.py:102\u001b[0m, in \u001b[0;36mtrain_and_test\u001b[1;34m(Generator, Regressor, TrainSettings)\u001b[0m\n\u001b[0;32m    100\u001b[0m \u001b[39m# 4. Train network\u001b[39;00m\n\u001b[0;32m    101\u001b[0m t0 \u001b[39m=\u001b[39m time\u001b[39m.\u001b[39mtime()\n\u001b[1;32m--> 102\u001b[0m Regressor\u001b[39m.\u001b[39;49mtrain(\u001b[39m\"\u001b[39;49m\u001b[39mstandard training\u001b[39;49m\u001b[39m\"\u001b[39;49m,TrainSettings, reinit \u001b[39m=\u001b[39;49m \u001b[39mFalse\u001b[39;49;00m)\n\u001b[0;32m    103\u001b[0m t1 \u001b[39m=\u001b[39m time\u001b[39m.\u001b[39mtime()\n\u001b[0;32m    105\u001b[0m \u001b[39m# Generate output file and print results during training\u001b[39;00m\n",
      "File \u001b[1;32mc:\\Users\\DanielPrivateGitHub\\Documents\\GitHub\\NeuronalNetworkTensorflowFramework\\montecarlolearning\\Neural_Approximator.py:252\u001b[0m, in \u001b[0;36mNeural_Approximator.train\u001b[1;34m(self, description, TrainingSettings, reinit, callback, callback_epochs, xTest, yTest)\u001b[0m\n\u001b[0;32m    240\u001b[0m \u001b[39mdef\u001b[39;00m \u001b[39mtrain\u001b[39m(\u001b[39mself\u001b[39m,            \n\u001b[0;32m    241\u001b[0m           description,\n\u001b[0;32m    242\u001b[0m           TrainingSettings,\n\u001b[1;32m   (...)\u001b[0m\n\u001b[0;32m    249\u001b[0m           yTest\u001b[39m=\u001b[39m\u001b[39mNone\u001b[39;00m              \n\u001b[0;32m    250\u001b[0m           ):     \u001b[39m# call after what epochs, e.g. [5, 20]\u001b[39;00m\n\u001b[1;32m--> 252\u001b[0m     train(description, \n\u001b[0;32m    253\u001b[0m           \u001b[39mself\u001b[39;49m, \n\u001b[0;32m    254\u001b[0m           TrainingSettings,\n\u001b[0;32m    255\u001b[0m           reinit, \n\u001b[0;32m    256\u001b[0m           callback, \n\u001b[0;32m    257\u001b[0m           callback_epochs,\n\u001b[0;32m    258\u001b[0m           xTest,\n\u001b[0;32m    259\u001b[0m           yTest)\n",
      "File \u001b[1;32mc:\\Users\\DanielPrivateGitHub\\Documents\\GitHub\\NeuronalNetworkTensorflowFramework\\montecarlolearning\\train.py:76\u001b[0m, in \u001b[0;36mtrain\u001b[1;34m(description, Regressor, TrainingSettings, reinit, callback, callback_epochs, xTest, yTest)\u001b[0m\n\u001b[0;32m     73\u001b[0m \u001b[39m# train one epoch\u001b[39;00m\n\u001b[0;32m     74\u001b[0m \u001b[39mif\u001b[39;00m \u001b[39mnot\u001b[39;00m Regressor\u001b[39m.\u001b[39m_Generator\u001b[39m.\u001b[39mDifferential:\n\u001b[1;32m---> 76\u001b[0m     vanilla_train_one_epoch(\n\u001b[0;32m     77\u001b[0m         Regressor, \n\u001b[0;32m     78\u001b[0m         learning_rate, \n\u001b[0;32m     79\u001b[0m         batch_size)\n\u001b[0;32m     80\u001b[0m     i \u001b[39m=\u001b[39m i \u001b[39m+\u001b[39m\u001b[39m1\u001b[39m\n\u001b[0;32m     81\u001b[0m     \u001b[39mif\u001b[39;00m i \u001b[39m%\u001b[39m TrainingSettings\u001b[39m.\u001b[39mtestFrequency \u001b[39m==\u001b[39m \u001b[39m0\u001b[39m:\n\u001b[0;32m     82\u001b[0m         \u001b[39m#print('learning_rate for the last epoch was' + str(learning_rate))\u001b[39;00m\n",
      "File \u001b[1;32mc:\\Users\\DanielPrivateGitHub\\Documents\\GitHub\\NeuronalNetworkTensorflowFramework\\montecarlolearning\\vanilla_train_one_epoch.py:24\u001b[0m, in \u001b[0;36mvanilla_train_one_epoch\u001b[1;34m(Regressor, learning_rate, batch_size)\u001b[0m\n\u001b[0;32m     22\u001b[0m first \u001b[39m=\u001b[39m \u001b[39m0\u001b[39m \u001b[39m#index\u001b[39;00m\n\u001b[0;32m     23\u001b[0m last \u001b[39m=\u001b[39m \u001b[39mmin\u001b[39m(batch_size, m) \u001b[39m#Assume batch size is 256, than first index = 0, after one loop first is at 256. If last is 750 (again index) we will ahve 3 iterations in while\u001b[39;00m\n\u001b[1;32m---> 24\u001b[0m Regressor\u001b[39m.\u001b[39;49msession\u001b[39m.\u001b[39;49mrun(Regressor\u001b[39m.\u001b[39;49mminimizer, feed_dict \u001b[39m=\u001b[39;49m {\n\u001b[0;32m     25\u001b[0m     Regressor\u001b[39m.\u001b[39;49minputs: Regressor\u001b[39m.\u001b[39;49mx[first:last], \n\u001b[0;32m     26\u001b[0m     Regressor\u001b[39m.\u001b[39;49mlabels: Regressor\u001b[39m.\u001b[39;49my[first:last],\n\u001b[0;32m     27\u001b[0m     Regressor\u001b[39m.\u001b[39;49mlearning_rate: learning_rate\n\u001b[0;32m     28\u001b[0m })\n\u001b[0;32m     29\u001b[0m first \u001b[39m=\u001b[39m last\n\u001b[0;32m     30\u001b[0m last \u001b[39m=\u001b[39m \u001b[39mmin\u001b[39m(first \u001b[39m+\u001b[39m batch_size, m)\n",
      "File \u001b[1;32mc:\\Users\\DanielPrivateGitHub\\Documents\\GitHub\\NeuronalNetworkTensorflowFramework\\.venvNN\\lib\\site-packages\\tensorflow\\python\\client\\session.py:968\u001b[0m, in \u001b[0;36mBaseSession.run\u001b[1;34m(self, fetches, feed_dict, options, run_metadata)\u001b[0m\n\u001b[0;32m    965\u001b[0m run_metadata_ptr \u001b[39m=\u001b[39m tf_session\u001b[39m.\u001b[39mTF_NewBuffer() \u001b[39mif\u001b[39;00m run_metadata \u001b[39melse\u001b[39;00m \u001b[39mNone\u001b[39;00m\n\u001b[0;32m    967\u001b[0m \u001b[39mtry\u001b[39;00m:\n\u001b[1;32m--> 968\u001b[0m   result \u001b[39m=\u001b[39m \u001b[39mself\u001b[39;49m\u001b[39m.\u001b[39;49m_run(\u001b[39mNone\u001b[39;49;00m, fetches, feed_dict, options_ptr,\n\u001b[0;32m    969\u001b[0m                      run_metadata_ptr)\n\u001b[0;32m    970\u001b[0m   \u001b[39mif\u001b[39;00m run_metadata:\n\u001b[0;32m    971\u001b[0m     proto_data \u001b[39m=\u001b[39m tf_session\u001b[39m.\u001b[39mTF_GetBuffer(run_metadata_ptr)\n",
      "File \u001b[1;32mc:\\Users\\DanielPrivateGitHub\\Documents\\GitHub\\NeuronalNetworkTensorflowFramework\\.venvNN\\lib\\site-packages\\tensorflow\\python\\client\\session.py:1191\u001b[0m, in \u001b[0;36mBaseSession._run\u001b[1;34m(self, handle, fetches, feed_dict, options, run_metadata)\u001b[0m\n\u001b[0;32m   1188\u001b[0m \u001b[39m# We only want to really perform the run if fetches or targets are provided,\u001b[39;00m\n\u001b[0;32m   1189\u001b[0m \u001b[39m# or if the call is a partial run that specifies feeds.\u001b[39;00m\n\u001b[0;32m   1190\u001b[0m \u001b[39mif\u001b[39;00m final_fetches \u001b[39mor\u001b[39;00m final_targets \u001b[39mor\u001b[39;00m (handle \u001b[39mand\u001b[39;00m feed_dict_tensor):\n\u001b[1;32m-> 1191\u001b[0m   results \u001b[39m=\u001b[39m \u001b[39mself\u001b[39;49m\u001b[39m.\u001b[39;49m_do_run(handle, final_targets, final_fetches,\n\u001b[0;32m   1192\u001b[0m                          feed_dict_tensor, options, run_metadata)\n\u001b[0;32m   1193\u001b[0m \u001b[39melse\u001b[39;00m:\n\u001b[0;32m   1194\u001b[0m   results \u001b[39m=\u001b[39m []\n",
      "File \u001b[1;32mc:\\Users\\DanielPrivateGitHub\\Documents\\GitHub\\NeuronalNetworkTensorflowFramework\\.venvNN\\lib\\site-packages\\tensorflow\\python\\client\\session.py:1371\u001b[0m, in \u001b[0;36mBaseSession._do_run\u001b[1;34m(self, handle, target_list, fetch_list, feed_dict, options, run_metadata)\u001b[0m\n\u001b[0;32m   1368\u001b[0m   \u001b[39mreturn\u001b[39;00m \u001b[39mself\u001b[39m\u001b[39m.\u001b[39m_call_tf_sessionprun(handle, feed_dict, fetch_list)\n\u001b[0;32m   1370\u001b[0m \u001b[39mif\u001b[39;00m handle \u001b[39mis\u001b[39;00m \u001b[39mNone\u001b[39;00m:\n\u001b[1;32m-> 1371\u001b[0m   \u001b[39mreturn\u001b[39;00m \u001b[39mself\u001b[39;49m\u001b[39m.\u001b[39;49m_do_call(_run_fn, feeds, fetches, targets, options,\n\u001b[0;32m   1372\u001b[0m                        run_metadata)\n\u001b[0;32m   1373\u001b[0m \u001b[39melse\u001b[39;00m:\n\u001b[0;32m   1374\u001b[0m   \u001b[39mreturn\u001b[39;00m \u001b[39mself\u001b[39m\u001b[39m.\u001b[39m_do_call(_prun_fn, handle, feeds, fetches)\n",
      "File \u001b[1;32mc:\\Users\\DanielPrivateGitHub\\Documents\\GitHub\\NeuronalNetworkTensorflowFramework\\.venvNN\\lib\\site-packages\\tensorflow\\python\\client\\session.py:1378\u001b[0m, in \u001b[0;36mBaseSession._do_call\u001b[1;34m(self, fn, *args)\u001b[0m\n\u001b[0;32m   1376\u001b[0m \u001b[39mdef\u001b[39;00m \u001b[39m_do_call\u001b[39m(\u001b[39mself\u001b[39m, fn, \u001b[39m*\u001b[39margs):\n\u001b[0;32m   1377\u001b[0m   \u001b[39mtry\u001b[39;00m:\n\u001b[1;32m-> 1378\u001b[0m     \u001b[39mreturn\u001b[39;00m fn(\u001b[39m*\u001b[39;49margs)\n\u001b[0;32m   1379\u001b[0m   \u001b[39mexcept\u001b[39;00m errors\u001b[39m.\u001b[39mOpError \u001b[39mas\u001b[39;00m e:\n\u001b[0;32m   1380\u001b[0m     message \u001b[39m=\u001b[39m compat\u001b[39m.\u001b[39mas_text(e\u001b[39m.\u001b[39mmessage)\n",
      "File \u001b[1;32mc:\\Users\\DanielPrivateGitHub\\Documents\\GitHub\\NeuronalNetworkTensorflowFramework\\.venvNN\\lib\\site-packages\\tensorflow\\python\\client\\session.py:1361\u001b[0m, in \u001b[0;36mBaseSession._do_run.<locals>._run_fn\u001b[1;34m(feed_dict, fetch_list, target_list, options, run_metadata)\u001b[0m\n\u001b[0;32m   1358\u001b[0m \u001b[39mdef\u001b[39;00m \u001b[39m_run_fn\u001b[39m(feed_dict, fetch_list, target_list, options, run_metadata):\n\u001b[0;32m   1359\u001b[0m   \u001b[39m# Ensure any changes to the graph are reflected in the runtime.\u001b[39;00m\n\u001b[0;32m   1360\u001b[0m   \u001b[39mself\u001b[39m\u001b[39m.\u001b[39m_extend_graph()\n\u001b[1;32m-> 1361\u001b[0m   \u001b[39mreturn\u001b[39;00m \u001b[39mself\u001b[39;49m\u001b[39m.\u001b[39;49m_call_tf_sessionrun(options, feed_dict, fetch_list,\n\u001b[0;32m   1362\u001b[0m                                   target_list, run_metadata)\n",
      "File \u001b[1;32mc:\\Users\\DanielPrivateGitHub\\Documents\\GitHub\\NeuronalNetworkTensorflowFramework\\.venvNN\\lib\\site-packages\\tensorflow\\python\\client\\session.py:1454\u001b[0m, in \u001b[0;36mBaseSession._call_tf_sessionrun\u001b[1;34m(self, options, feed_dict, fetch_list, target_list, run_metadata)\u001b[0m\n\u001b[0;32m   1452\u001b[0m \u001b[39mdef\u001b[39;00m \u001b[39m_call_tf_sessionrun\u001b[39m(\u001b[39mself\u001b[39m, options, feed_dict, fetch_list, target_list,\n\u001b[0;32m   1453\u001b[0m                         run_metadata):\n\u001b[1;32m-> 1454\u001b[0m   \u001b[39mreturn\u001b[39;00m tf_session\u001b[39m.\u001b[39;49mTF_SessionRun_wrapper(\u001b[39mself\u001b[39;49m\u001b[39m.\u001b[39;49m_session, options, feed_dict,\n\u001b[0;32m   1455\u001b[0m                                           fetch_list, target_list,\n\u001b[0;32m   1456\u001b[0m                                           run_metadata)\n",
      "\u001b[1;31mKeyboardInterrupt\u001b[0m: "
     ]
    }
   ],
   "source": [
    "### Copy of Main.py as a juypter notebook to visualize results\n",
    "\n",
    "#del sys.modules['DataImporter']\n",
    "\n",
    "###\n",
    "### 0. Import packages and references\n",
    "###\n",
    "### Import framework\n",
    "import os\n",
    "mainDirectory = os.path.abspath(os.path.join(os.getcwd() , '..', '..','..'))\n",
    "packageFile = os.path.abspath(os.path.join(mainDirectory, 'montecarlolearning', 'packages.py'))\n",
    "exec(open(packageFile).read())\n",
    "\n",
    "###\n",
    "### 1. Training data Generator/Importer\n",
    "###\n",
    "\n",
    "# 10^4 data data points\n",
    "Generator = GBM_5d(GBM_5d_Case.Standard,noiseVariance = 0.0)\n",
    "Generator.set_inputName('S 5-dim')\n",
    "Generator.set_outputName('EuropeanCallPrice(S)')\n",
    "\n",
    "###\n",
    "### 2. Set Nueral network structure / Hyperparameters\n",
    "### \n",
    "\n",
    "Regressor = Neural_Approximator()\n",
    "Regressor.set_Generator(Generator)\n",
    "Regressor.set_hiddenNeurons(50)\n",
    "Regressor.set_hiddenLayers(2)\n",
    "Regressor.set_activationFunctionsHidden(tf.nn.sigmoid)\n",
    "Regressor.set_activationFunctionOutput(tf.nn.sigmoid)\n",
    "\n",
    "#hiddenNeurons = 20               # we use equal neurons for each hidden layer\n",
    "#hiddenLayers = 3                # amount of hidden layers\n",
    "#activationFunctionsHidden = [tf.nn.tanh]   # activation functions of hidden layers\n",
    "\n",
    "\n",
    "###\n",
    "### 3. Set Nueral network structure / Hyperparameters\n",
    "### \n",
    "\n",
    "TrainSettings = TrainingSettings()\n",
    "TrainSettings.set_learning_rate_schedule=([(0.0, 0.001),(0.333, 0.0001),(0.666, 0.0001)])\n",
    "TrainSettings.set_test_frequency(100)\n",
    "TrainSettings.set_nTest(2000)\n",
    "TrainSettings.set_samplesPerStep(20000)\n",
    "TrainSettings.set_trainingSteps(1000)\n",
    "\n",
    "\n",
    "###\n",
    "### 3. Train network and Study results\n",
    "### Comment: For different trainingSetSizes the neural network reset and not saved, hence train and evaluation of yPredicted are done together currently\n",
    "###\n",
    "xTest, yTest, yPredicted = train_and_test(Generator, Regressor, TrainSettings)\n",
    "plot_results(\"predicted vs. expected\", yPredicted, xTest, yTest, Generator)"
   ]
  },
  {
   "cell_type": "code",
   "execution_count": 2,
   "metadata": {},
   "outputs": [
    {
     "name": "stdout",
     "output_type": "stream",
     "text": [
      "<tensorflow.python.framework.ops.Graph object at 0x0000021BB403D000>\n",
      "RMSE after 100 training steps is [2.59372374]\n",
      "RMSE after 200 training steps is [2.58653297]\n",
      "RMSE after 300 training steps is [2.58668175]\n",
      "RMSE after 400 training steps is [2.58188143]\n",
      "RMSE after 500 training steps is [2.58029743]\n",
      "RMSE after 600 training steps is [2.57886677]\n",
      "RMSE after 700 training steps is [2.57711892]\n",
      "RMSE after 800 training steps is [2.57645423]\n",
      "RMSE after 900 training steps is [2.57290879]\n"
     ]
    }
   ],
   "source": [
    "Generator.set_trainingCase(GBM_5d_Case.ClosedSolution)\n",
    "\n",
    "###\n",
    "### 3. Train network and Study results\n",
    "### Comment: For different trainingSetSizes the neural network reset and not saved, hence train and evaluation of yPredicted are done together currently\n",
    "###\n",
    "xTest, yTest, yPredicted = train_and_test(Generator, Regressor, TrainSettings)\n",
    "plot_results(\"predicted vs. expected\", yPredicted, xTest, yTest, Generator)"
   ]
  }
 ],
 "metadata": {
  "kernelspec": {
   "display_name": ".venvNN",
   "language": "python",
   "name": "python3"
  },
  "language_info": {
   "codemirror_mode": {
    "name": "ipython",
    "version": 3
   },
   "file_extension": ".py",
   "mimetype": "text/x-python",
   "name": "python",
   "nbconvert_exporter": "python",
   "pygments_lexer": "ipython3",
   "version": "3.10.10"
  },
  "orig_nbformat": 4,
  "vscode": {
   "interpreter": {
    "hash": "6128ee1b9732ea70ccc9dd248fa8accbd7dca0fbb1ff1543c206a5171d8ffa8c"
   }
  }
 },
 "nbformat": 4,
 "nbformat_minor": 2
}
