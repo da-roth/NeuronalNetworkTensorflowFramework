{
 "cells": [
  {
   "cell_type": "code",
   "execution_count": 1,
   "metadata": {},
   "outputs": [
    {
     "name": "stdout",
     "output_type": "stream",
     "text": [
      "GPU support =  False\n",
      "<tensorflow.python.framework.ops.Graph object at 0x000001EFBCB12BF0>\n",
      "RMSE after 10 training steps is [0.92141883]\n",
      "RMSE after 20 training steps is [12.1136501]\n",
      "RMSE after training is [11.73726877]\n",
      "max error  after training is [12.09298226]\n"
     ]
    }
   ],
   "source": [
    "### Copy of Main.py as a juypter notebook to visualize results\n",
    "\n",
    "###\n",
    "### 0. Import packages and references\n",
    "###\n",
    "### Import framework\n",
    "import os\n",
    "mainDirectory = os.path.abspath(os.path.join(os.getcwd(), '..','..', '..','..'))\n",
    "packageFile = os.path.abspath(os.path.join(mainDirectory, 'montecarlolearning', 'packages.py'))\n",
    "exec(open(packageFile).read())\n",
    "\n",
    "###\n",
    "### 1. Training data\n",
    "###\n",
    "#from CDF import *\n",
    "Generator = Multilevel_GBM(Multilevel_Train_Case.Euler, 0 ,Multilevel_Train_Dimension.one)\n",
    "Generator.set_inputName('S')\n",
    "Generator.set_outputName('EuropeanCallPrice(S)')\n",
    "\n",
    "###\n",
    "### 2. Set Nueral network structure / \n",
    "# Hyperparameters\n",
    "### \n",
    "\n",
    "Regressor = Neural_Approximator()\n",
    "Regressor.set_Generator(Generator)\n",
    "Regressor.set_hiddenNeurons(20)\n",
    "Regressor.set_hiddenLayers(2)\n",
    "Regressor.set_activationFunctionsHidden(tf.nn.sigmoid)\n",
    "Regressor.set_activationFunctionOutput(tf.nn.sigmoid)\n",
    "Regressor.set_weight_seed(1)\n",
    "\n",
    "TrainSettings = TrainingSettings()\n",
    "TrainSettings.useExponentialDecay(0.01, 0.1, 1000)\n",
    "TrainSettings.set_min_batch_size(1)\n",
    "TrainSettings.set_test_frequency(10)\n",
    "TrainSettings.set_nTest(10000)\n",
    "TrainSettings.set_samplesPerStep(10000)\n",
    "TrainSettings.set_trainingSteps(20)\n",
    "\n",
    "###\n",
    "### 3. Train network and Study results\n",
    "### Comment: For different trainingSetSizes the neural network reset and not saved, hence train and evaluation of yPredicted are done together currently\n",
    "###\n",
    "\n",
    "xTest, yTest, yPredicted = train_and_test(Generator, Regressor, TrainSettings)"
   ]
  },
  {
   "cell_type": "code",
   "execution_count": 2,
   "metadata": {},
   "outputs": [
    {
     "name": "stdout",
     "output_type": "stream",
     "text": [
      "<tensorflow.python.framework.ops.Graph object at 0x000001EFA86BDD50>\n",
      "RMSE after 10 training steps is [7.47433627]\n",
      "RMSE after 20 training steps is [7.43866018]\n",
      "RMSE after training is [7.41802571]\n",
      "max error  after training is [7.93528116]\n",
      "<tensorflow.python.framework.ops.Graph object at 0x000001EFA86BE440>\n",
      "RMSE after 10 training steps is [5.0785431]\n",
      "RMSE after 20 training steps is [5.09373661]\n",
      "RMSE after training is [5.07784553]\n",
      "max error  after training is [5.31830514]\n",
      "<tensorflow.python.framework.ops.Graph object at 0x000001EFA86AD750>\n",
      "RMSE after 10 training steps is [8.54825661]\n",
      "RMSE after 20 training steps is [8.56552757]\n",
      "RMSE after training is [8.55480914]\n",
      "max error  after training is [8.63033582]\n",
      "<tensorflow.python.framework.ops.Graph object at 0x000001EFA8646200>\n",
      "RMSE after 10 training steps is [8.39108661]\n",
      "RMSE after 20 training steps is [8.36830478]\n",
      "RMSE after training is [8.38652738]\n",
      "max error  after training is [8.48882053]\n",
      "<tensorflow.python.framework.ops.Graph object at 0x000001EFBC9D7B80>\n",
      "RMSE after 10 training steps is [8.47873819]\n",
      "RMSE after 20 training steps is [8.47327482]\n",
      "RMSE after training is [8.46204868]\n",
      "max error  after training is [8.59485847]\n"
     ]
    },
    {
     "data": {
      "image/png": "[encoded data removed]",
      "text/plain": [
       "<Figure size 550x400 with 1 Axes>"
      ]
     },
     "metadata": {},
     "output_type": "display_data"
    }
   ],
   "source": [
    "###\n",
    "### 1. Training data\n",
    "###\n",
    "#from CDF import *\n",
    "Generator = Multilevel_GBM(Multilevel_Train_Case.Milstein, 0, Multilevel_Train_Dimension.one)\n",
    "Generator.set_inputName('S')\n",
    "Generator.set_outputName('P_0')\n",
    "\n",
    "GeneratorLevel1 = Multilevel_GBM(Multilevel_Train_Case.LevelEstimator, 0, Multilevel_Train_Dimension.one)\n",
    "GeneratorLevel1 .set_inputName('x')\n",
    "GeneratorLevel1 .set_outputName('P_1-P_0')\n",
    "\n",
    "GeneratorLevel2 = Multilevel_GBM(Multilevel_Train_Case.LevelEstimator, 1, Multilevel_Train_Dimension.one)\n",
    "GeneratorLevel2 .set_inputName('x')\n",
    "GeneratorLevel2 .set_outputName('P_2-P_1')\n",
    "\n",
    "GeneratorLevel3 = Multilevel_GBM(Multilevel_Train_Case.LevelEstimator, 2, Multilevel_Train_Dimension.one)\n",
    "GeneratorLevel3 .set_inputName('x')\n",
    "GeneratorLevel3 .set_outputName('P_3-P_2')\n",
    "\n",
    "GeneratorLevel4 = Multilevel_GBM(Multilevel_Train_Case.LevelEstimator, 3, Multilevel_Train_Dimension.one)\n",
    "GeneratorLevel4 .set_inputName('x')\n",
    "GeneratorLevel4 .set_outputName('P_4-P_3')\n",
    "\n",
    "\n",
    "###\n",
    "### 2. Set Nueral network structure / Hyperparameters\n",
    "### \n",
    "\n",
    "Regressor = Neural_Approximator()\n",
    "Regressor.set_Generator(Generator)\n",
    "Regressor.set_hiddenNeurons(20)\n",
    "Regressor.set_hiddenLayers(2)\n",
    "Regressor.set_activationFunctionsHidden(tf.nn.sigmoid)\n",
    "Regressor.set_activationFunctionOutput(tf.nn.sigmoid)\n",
    "Regressor.set_weight_seed(1)\n",
    "\n",
    "TrainSettings = TrainingSettings()\n",
    "TrainSettings.set_learning_rate_schedule=([(0.0, 0.0001),  (0.2, 0.0001),  (0.4, 0.0001), (0.6, 0.0001),  (0.8, 0.0001)] )\n",
    "TrainSettings.set_min_batch_size(1)\n",
    "TrainSettings.set_test_frequency(10)\n",
    "TrainSettings.set_nTest(100000)\n",
    "TrainSettings.set_samplesPerStep(100000)\n",
    "TrainSettings.set_trainingSteps(20)\n",
    "\n",
    "###\n",
    "### 3. Train network and Study results\n",
    "### Comment: For different trainingSetSizes the neural network reset and not saved, hence train and evaluation of yPredicted are done together currently\n",
    "###\n",
    "\n",
    "xTest, yTest, yPredicted = train_and_test(Generator, Regressor, TrainSettings)\n",
    "TrainSettings.set_samplesPerStep(100000)\n",
    "xTest2, yTest2, yPredictedLevel1 = train_and_test(GeneratorLevel1, Regressor, TrainSettings)\n",
    "TrainSettings.set_samplesPerStep(25000)\n",
    "xTest, yTest, yPredictedLevel2 = train_and_test(GeneratorLevel2, Regressor, TrainSettings)\n",
    "TrainSettings.set_samplesPerStep(10000)\n",
    "xTest, yTest, yPredictedLevel3 = train_and_test(GeneratorLevel3, Regressor, TrainSettings)\n",
    "xTest, yTest, yPredictedLevel4 = train_and_test(GeneratorLevel4, Regressor, TrainSettings)\n",
    "multilevel_predicted = {('standard', 100000): np.add(yPredicted[('standard', 100000)], yPredictedLevel1[('standard', 100000)])}\n",
    "multilevel_predicted = {('standard', 100000): np.add(multilevel_predicted[('standard', 100000)], yPredictedLevel2[('standard', 100000)])}\n",
    "multilevel_predicted = {('standard', 100000): np.add(multilevel_predicted[('standard', 100000)], yPredictedLevel3[('standard', 100000)])}\n",
    "multilevel_predicted = {('standard', 100000): np.add(multilevel_predicted[('standard', 100000)], yPredictedLevel4[('standard', 100000)])}\n",
    "plot_results(\"predicted vs. expected\", multilevel_predicted, xTest, yTest, Generator)"
   ]
  }
 ],
 "metadata": {
  "kernelspec": {
   "display_name": ".venvNN",
   "language": "python",
   "name": "python3"
  },
  "language_info": {
   "codemirror_mode": {
    "name": "ipython",
    "version": 3
   },
   "file_extension": ".py",
   "mimetype": "text/x-python",
   "name": "python",
   "nbconvert_exporter": "python",
   "pygments_lexer": "ipython3",
   "version": "3.10.10"
  },
  "orig_nbformat": 4,
  "vscode": {
   "interpreter": {
    "hash": "3f469d54171fe07f2f0be32f89b0b6a9254e5e5358f5513dbb28f03e97b475cc"
   }
  }
 },
 "nbformat": 4,
 "nbformat_minor": 2
}
