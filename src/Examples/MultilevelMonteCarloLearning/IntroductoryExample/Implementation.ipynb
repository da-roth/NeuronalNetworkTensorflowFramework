{
 "cells": [
  {
   "cell_type": "code",
   "execution_count": 2,
   "metadata": {},
   "outputs": [
    {
     "ename": "KeyboardInterrupt",
     "evalue": "",
     "output_type": "error",
     "traceback": [
      "\u001b[1;31m---------------------------------------------------------------------------\u001b[0m",
      "\u001b[1;31mKeyboardInterrupt\u001b[0m                         Traceback (most recent call last)",
      "Cell \u001b[1;32mIn [2], line 41\u001b[0m\n\u001b[0;32m     36\u001b[0m \u001b[39m###\u001b[39;00m\n\u001b[0;32m     37\u001b[0m \u001b[39m### 3. Train network\u001b[39;00m\n\u001b[0;32m     38\u001b[0m \u001b[39m###\u001b[39;00m\n\u001b[0;32m     40\u001b[0m trainingMethod \u001b[39m=\u001b[39m TrainingMethod\u001b[39m.\u001b[39mGenerateDataDuringTraining\n\u001b[1;32m---> 41\u001b[0m xTest, yTest, yPredicted \u001b[39m=\u001b[39m train_and_test(generator, sizes, nTest, dataSeed, \u001b[39mNone\u001b[39;49;00m, weightSeed, hiddenNeurons, hiddenLayers, activationFunctionsHidden, trainingMethod \u001b[39m=\u001b[39;49m trainingMethod, batches_per_epoch \u001b[39m=\u001b[39;49m \u001b[39m1\u001b[39;49m,learning_rate_schedule\u001b[39m=\u001b[39;49mlearning_rate_schedule)\n\u001b[0;32m     43\u001b[0m \u001b[39m###\u001b[39;00m\n\u001b[0;32m     44\u001b[0m \u001b[39m### 3. Study results\u001b[39;00m\n\u001b[0;32m     45\u001b[0m \u001b[39m###   \u001b[39;00m\n\u001b[0;32m     46\u001b[0m \n\u001b[0;32m     47\u001b[0m \u001b[39m# show predicitions\u001b[39;00m\n\u001b[0;32m     48\u001b[0m plot_results(\u001b[39m\"\u001b[39m\u001b[39mCDF random inputs\u001b[39m\u001b[39m\"\u001b[39m, yPredicted, xTest, \u001b[39m\"\u001b[39m\u001b[39mx\u001b[39m\u001b[39m\"\u001b[39m, \u001b[39m\"\u001b[39m\u001b[39mCDF(x)\u001b[39m\u001b[39m\"\u001b[39m, yTest, sizes, \u001b[39mTrue\u001b[39;00m, \u001b[39mFalse\u001b[39;00m, \u001b[39mNone\u001b[39;00m, trainingMethod)\n",
      "File \u001b[1;32mc:\\dev\\NeuronalNetworkTensorflowFramework\\montecarlolearning\\train_and_test.py:102\u001b[0m, in \u001b[0;36mtrain_and_test\u001b[1;34m(generator, sizes, nTest, dataSeed, testSeed, weightSeed, hiddenNeurons, hiddenLayers, activationFunctionsHidden, activationFunctionOutput, trainingMethod, testFrequency, outputDimension, deltidx, epochs, learning_rate_schedule, batches_per_epoch, min_batch_size, biasNeuron)\u001b[0m\n\u001b[0;32m     99\u001b[0m \u001b[39m# 4. Train loop over remaining training steps\u001b[39;00m\n\u001b[0;32m    100\u001b[0m \u001b[39mfor\u001b[39;00m i \u001b[39min\u001b[39;00m \u001b[39mrange\u001b[39m(\u001b[39m1\u001b[39m,sizes[\u001b[39m1\u001b[39m]):\n\u001b[0;32m    101\u001b[0m     \u001b[39m#print('Training step ' + str(i) + ' will be done')\u001b[39;00m\n\u001b[1;32m--> 102\u001b[0m     xTrain, yTrain, _unused \u001b[39m=\u001b[39m generator\u001b[39m.\u001b[39;49mtrainingSet(sizes[\u001b[39m0\u001b[39;49m], trainSeed\u001b[39m=\u001b[39;49mi)\n\u001b[0;32m    103\u001b[0m     regressor\u001b[39m.\u001b[39mstoreNewDataAndNormalize(xTrain,  yTrain, _unused, sizes[\u001b[39m0\u001b[39m])\n\u001b[0;32m    105\u001b[0m     \u001b[39m# 4. Train network\u001b[39;00m\n",
      "File \u001b[1;32mc:\\dev\\NeuronalNetworkTensorflowFramework\\montecarlolearning\\EuropeanSDESingle.py:58\u001b[0m, in \u001b[0;36mEuropeanSDESingle.trainingSet\u001b[1;34m(self, m, trainSeed, approx)\u001b[0m\n\u001b[0;32m     56\u001b[0m \u001b[39m# 2. sets of normal returns\u001b[39;00m\n\u001b[0;32m     57\u001b[0m h\u001b[39m=\u001b[39mT[:]\u001b[39m/\u001b[39m\u001b[39m1.0\u001b[39m\n\u001b[1;32m---> 58\u001b[0m z\u001b[39m=\u001b[39mnp\u001b[39m.\u001b[39;49mrandom\u001b[39m.\u001b[39;49mnormal(size\u001b[39m=\u001b[39;49m[m, \u001b[39m2\u001b[39;49m])\n\u001b[0;32m     59\u001b[0m s\u001b[39m=\u001b[39m s_0[:] \u001b[39m+\u001b[39m mu[:] \u001b[39m*\u001b[39ms_0[:] \u001b[39m*\u001b[39m h[:] \u001b[39m+\u001b[39msigma[:] \u001b[39m*\u001b[39m s_0[:] \u001b[39m*\u001b[39mnp\u001b[39m.\u001b[39msqrt(h[:])\u001b[39m*\u001b[39mz[:,\u001b[39m0\u001b[39m] \u001b[39m+\u001b[39m \u001b[39m0.5\u001b[39m \u001b[39m*\u001b[39msigma[:] \u001b[39m*\u001b[39ms_0[:] \u001b[39m*\u001b[39msigma[:] \u001b[39m*\u001b[39m ((np\u001b[39m.\u001b[39msqrt(h[:])\u001b[39m*\u001b[39mz[:,\u001b[39m1\u001b[39m])\u001b[39m*\u001b[39m\u001b[39m*\u001b[39m\u001b[39m2\u001b[39m\u001b[39m-\u001b[39mh[:]) \n\u001b[0;32m     61\u001b[0m payoffs\u001b[39m=\u001b[39mnp\u001b[39m.\u001b[39mexp(\u001b[39m-\u001b[39mmu[:] \u001b[39m*\u001b[39m T[:])\u001b[39m*\u001b[39m np\u001b[39m.\u001b[39mmaximum(s[:] \u001b[39m-\u001b[39m K[:], \u001b[39m0.\u001b[39m)\n",
      "\u001b[1;31mKeyboardInterrupt\u001b[0m: "
     ]
    }
   ],
   "source": [
    "### Copy of Main.py as a juypter notebook to visualize results\n",
    "\n",
    "###\n",
    "### 0. Import packages and references\n",
    "###\n",
    "### Import framework\n",
    "import os\n",
    "mainDirectory = os.path.abspath(os.path.join(os.getcwd(), '..','..', '..','..'))\n",
    "packageFile = os.path.abspath(os.path.join(mainDirectory, 'montecarlolearning', 'packages.py'))\n",
    "exec(open(packageFile).read())\n",
    "\n",
    "###\n",
    "### 1. Training data\n",
    "###\n",
    "#from CDF import *\n",
    "generator = EuropeanSDESingle()\n",
    "sizes = [100000,10000] # [sizePerTrainingStep, trainingSteps]\n",
    "nTest = 5000 # Test set size\n",
    "dataSeed = 1 \n",
    "weightSeed = 1 \n",
    "\n",
    "###\n",
    "### 2. Set Nueral network structure / Hyperparameters\n",
    "### \n",
    "\n",
    "hiddenNeurons = 50                      # we use equal neurons for each hidden layer\n",
    "hiddenLayers = 2                       # amount of hidden layers\n",
    "activationFunctionsHidden = tf.nn.sigmoid   # activation functions of hidden layers\n",
    "learning_rate_schedule=[\n",
    "    (0.0, 0.01), \n",
    "    (0.2, 0.01), \n",
    "    (0.4, 0.01), \n",
    "    (0.6, 0.001), \n",
    "    (0.8, 0.0001)] \n",
    "\n",
    "###\n",
    "### 3. Train network\n",
    "###\n",
    "\n",
    "trainingMethod = TrainingMethod.GenerateDataDuringTraining\n",
    "xTest, yTest, yPredicted = train_and_test(generator, sizes, nTest, dataSeed, None, weightSeed, hiddenNeurons, hiddenLayers, activationFunctionsHidden, trainingMethod = trainingMethod, batches_per_epoch = 1,learning_rate_schedule=learning_rate_schedule)\n",
    "    \n",
    "###\n",
    "### 3. Study results\n",
    "###   \n",
    "\n",
    "# show predicitions\n",
    "plot_results(\"CDF random inputs\", yPredicted, xTest, \"x\", \"CDF(x)\", yTest, sizes, True, False, None, trainingMethod)"
   ]
  }
 ],
 "metadata": {
  "kernelspec": {
   "display_name": ".venvNN",
   "language": "python",
   "name": "python3"
  },
  "language_info": {
   "codemirror_mode": {
    "name": "ipython",
    "version": 3
   },
   "file_extension": ".py",
   "mimetype": "text/x-python",
   "name": "python",
   "nbconvert_exporter": "python",
   "pygments_lexer": "ipython3",
   "version": "3.9.12 (main, Apr  4 2022, 05:22:27) [MSC v.1916 64 bit (AMD64)]"
  },
  "orig_nbformat": 4,
  "vscode": {
   "interpreter": {
    "hash": "83a8566224840326395a21c083192bd4c5adbde2ed4f12bcb51b671fb460c3a0"
   }
  }
 },
 "nbformat": 4,
 "nbformat_minor": 2
}
