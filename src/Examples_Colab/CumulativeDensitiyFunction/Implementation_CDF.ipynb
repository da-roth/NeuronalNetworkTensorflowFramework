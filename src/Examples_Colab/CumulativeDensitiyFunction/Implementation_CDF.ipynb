{
 "cells": [
  {
   "attachments": {},
   "cell_type": "markdown",
   "metadata": {},
   "source": [
    "# Open this notebook in colab\n",
    "#<a href=\"https://colab.research.google.com/github/da-roth/NeuronalNetworkTensorflowFramework/blob/main/src/Examples_Colab/CumulativeDensitiyFunction/Implementation_CDF.ipynb\" target=\"_parent\"><img src=\"https://colab.research.google.com/assets/colab-badge.svg\" alt=\"Open In Colab\"/></a>\n"
   ]
  },
  {
   "cell_type": "code",
   "execution_count": null,
   "metadata": {},
   "outputs": [],
   "source": [
    "%%capture\n",
    "pip install git+https://github.com/da-roth/NeuronalNetworkTensorflowFramework#montecarlolearning"
   ]
  },
  {
   "cell_type": "code",
   "execution_count": null,
   "metadata": {},
   "outputs": [],
   "source": [
    "###\n",
    "### 0. Import packages and references\n",
    "###\n",
    "### - dataSeed = seed for simulations or (for csv input) for randomization of csv\n",
    "\n",
    "from montecarlolearning import *\n",
    "\n",
    "###\n",
    "### 1. Training data\n",
    "###\n",
    "\n",
    "Generator = DataImporter()\n",
    "# 10^4 data data points\n",
    "url = \"https://github.com/da-roth/NeuronalNetworkTensorflowFramework/raw/main/src/Examples/CumulativeDensitiyFunction/cdf_deterministic_data.csv\"\n",
    "Generator.set_path(url)\n",
    "Generator.set_inputName('x')\n",
    "Generator.set_outputName('CDF(x)')\n",
    "Generator.set_trainTestRatio(0.8)\n",
    "Generator.set_randomized(False)\n",
    "Generator.set_trainingSetSizes([100,1000,10000])\n",
    "Generator.set_dataSeed(1)\n",
    "\n",
    "###\n",
    "### 2. Set Nueral network structure / Hyperparameters\n",
    "### \n",
    "\n",
    "Regressor = Neural_Approximator()\n",
    "Regressor.set_Generator(Generator)\n",
    "Regressor.set_hiddenNeurons(20)\n",
    "Regressor.set_hiddenLayers(3)\n",
    "Regressor.set_activationFunctionsHidden([tf.nn.tanh])\n",
    "Regressor.set_weight_seed(1)\n",
    "\n",
    "###\n",
    "### 3. Training settings\n",
    "### \n",
    "\n",
    "TrainSettings = TrainingSettings()\n",
    "TrainSettings.set_epochs(20)\n",
    "TrainSettings.set_batches_per_epoch(10)\n",
    "\n",
    "###\n",
    "### 4. Train and evaluate\n",
    "###\n",
    "xTest, yTest, yPredicted = train_and_test(Generator, Regressor, TrainSettings)\n",
    "plot_results(\"CDF unrandomized deterministic inputs\", yPredicted, xTest, yTest, Generator)"
   ]
  },
  {
   "cell_type": "code",
   "execution_count": null,
   "metadata": {},
   "outputs": [],
   "source": [
    "Generator.set_randomized(True)\n",
    "\n",
    "###\n",
    "### 3. Train network and Study results\n",
    "### Comment: For different trainingSetSizes the neural network reset and not saved, hence train and evaluation of yPredicted are done together currently\n",
    "###\n",
    "xTest, yTest, yPredicted = train_and_test(Generator, Regressor, TrainSettings)\n",
    "plot_results(\"CDF unrandomized deterministic inputs\", yPredicted, xTest, yTest, Generator)"
   ]
  },
  {
   "cell_type": "code",
   "execution_count": null,
   "metadata": {},
   "outputs": [],
   "source": [
    "url = \"https://github.com/da-roth/NeuronalNetworkTensorflowFramework/raw/main/src/Examples/CumulativeDensitiyFunction/cdf_randominputs_data.csv\"\n",
    "Generator.set_path(url)\n",
    "Generator.set_randomized(False)\n",
    "\n",
    "###\n",
    "### 3. Train network and Study results\n",
    "### Comment: For different trainingSetSizes the neural network reset and not saved, hence train and evaluation of yPredicted are done together currently\n",
    "###\n",
    "xTest, yTest, yPredicted = train_and_test(Generator, Regressor, TrainSettings)\n",
    "plot_results(\"CDF unrandomized deterministic inputs\", yPredicted, xTest, yTest, Generator)"
   ]
  },
  {
   "cell_type": "code",
   "execution_count": null,
   "metadata": {},
   "outputs": [],
   "source": [
    "Generator = CDF()\n",
    "Generator.set_inputName('x')\n",
    "Generator.set_outputName('CDF(x)')\n",
    "\n",
    "###\n",
    "### 2. Set Nueral network structure / Hyperparameters\n",
    "### \n",
    "\n",
    "TrainSettings.set_min_batch_size(1)\n",
    "TrainSettings.set_test_frequency(10)\n",
    "TrainSettings.set_nTest(2000)\n",
    "TrainSettings.set_samplesPerStep(1000)\n",
    "TrainSettings.set_trainingSteps(10)\n",
    "\n",
    "###\n",
    "### 3. Train network and Study results\n",
    "### Comment: For different trainingSetSizes the neural network reset and not saved, hence train and evaluation of yPredicted are done together currently\n",
    "###\n",
    "xTest, yTest, yPredicted = train_and_test(Generator, Regressor, TrainSettings)\n",
    "plot_results(\"predicted vs. expected\", yPredicted, xTest, yTest, Generator)"
   ]
  }
 ],
 "metadata": {
  "kernelspec": {
   "display_name": "Python 3",
   "language": "python",
   "name": "python3"
  },
  "language_info": {
   "codemirror_mode": {
    "name": "ipython",
    "version": 3
   },
   "file_extension": ".py",
   "mimetype": "text/x-python",
   "name": "python",
   "nbconvert_exporter": "python",
   "pygments_lexer": "ipython3",
   "version": "3.10.8 (tags/v3.10.8:aaaf517, Oct 11 2022, 16:50:30) [MSC v.1933 64 bit (AMD64)]"
  },
  "orig_nbformat": 4,
  "vscode": {
   "interpreter": {
    "hash": "313fb866d296591a8602be99120a1066565defaeee60b27e37b02f0bc53924d5"
   }
  }
 },
 "nbformat": 4,
 "nbformat_minor": 2
}
