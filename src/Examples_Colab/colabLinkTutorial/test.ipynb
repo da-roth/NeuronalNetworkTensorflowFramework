{
 "cells": [
  {
   "cell_type": "code",
   "execution_count": 5,
   "metadata": {},
   "outputs": [],
   "source": [
    "# Add the below link (with respective ipynb location) as a markdown in jupyter:\n",
    "#<a href=\"https://colab.research.google.com/github/da-roth/NeuronalNetworkTensorflowFramework/blob/main/src/Examples/colabLinkTest/test.ipynb\" target=\"_parent\"><img src=\"https://colab.research.google.com/assets/colab-badge.svg\" alt=\"Open In Colab\"/></a>"
   ]
  },
  {
   "attachments": {},
   "cell_type": "markdown",
   "metadata": {},
   "source": [
    "<a href=\"https://colab.research.google.com/github/da-roth/NeuronalNetworkTensorflowFramework/blob/main/src/Examples/colabLinkTest/test.ipynb\" target=\"_parent\"><img src=\"https://colab.research.google.com/assets/colab-badge.svg\" alt=\"Open In Colab\"/></a>"
   ]
  }
 ],
 "metadata": {
  "kernelspec": {
   "display_name": "Python 3",
   "language": "python",
   "name": "python3"
  },
  "language_info": {
   "codemirror_mode": {
    "name": "ipython",
    "version": 3
   },
   "file_extension": ".py",
   "mimetype": "text/x-python",
   "name": "python",
   "nbconvert_exporter": "python",
   "pygments_lexer": "ipython3",
   "version": "3.10.8 (tags/v3.10.8:aaaf517, Oct 11 2022, 16:50:30) [MSC v.1933 64 bit (AMD64)]"
  },
  "orig_nbformat": 4,
  "vscode": {
   "interpreter": {
    "hash": "313fb866d296591a8602be99120a1066565defaeee60b27e37b02f0bc53924d5"
   }
  }
 },
 "nbformat": 4,
 "nbformat_minor": 2
}
