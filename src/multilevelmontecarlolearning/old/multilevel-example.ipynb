{
 "cells": [
  {
   "cell_type": "code",
   "execution_count": null,
   "metadata": {},
   "outputs": [],
   "source": [
    "import os\n",
    "mainDirectory = os.path.abspath(os.path.join(os.getcwd() ,'..'))\n",
    "packageFile = os.path.abspath(os.path.join(mainDirectory, 'montecarlolearning', 'packages.py'))\n",
    "exec(open(packageFile).read())\n",
    " \n",
    "Generator = GBM_Multilevel()\n",
    "  \n",
    "Regressor = Neural_Approximator_Multilevel()\n",
    "Regressor.set_hiddenNeurons(50)\n",
    "Regressor.set_hiddenLayers(2)\n",
    "\n",
    "TrainSettings = TrainingSettings()\n",
    "TrainSettings.set_learning_rate_schedule([0.01, 0.1, 1000])\n",
    "TrainSettings.set_test_frequency(150)\n",
    "TrainSettings.set_mcRounds(100)\n",
    "TrainSettings.set_nTest(200)\n",
    "TrainSettings.set_samplesPerStep([75000, 1817, 690, 264, 93, 33, 12, 5])\n",
    "TrainSettings.set_trainingSteps([150000,150,150,150,150,150,150,150])\n",
    "TrainSettings.set_fileName('multi-introductory-new-3.csv')\n",
    "\n",
    "train_and_test_Multilevel(Generator, Regressor, TrainSettings)"
   ]
  }
 ],
 "metadata": {
  "kernelspec": {
   "display_name": ".venvNN",
   "language": "python",
   "name": "python3"
  },
  "language_info": {
   "codemirror_mode": {
    "name": "ipython",
    "version": 3
   },
   "file_extension": ".py",
   "mimetype": "text/x-python",
   "name": "python",
   "nbconvert_exporter": "python",
   "pygments_lexer": "ipython3",
   "version": "3.10.11"
  },
  "orig_nbformat": 4
 },
 "nbformat": 4,
 "nbformat_minor": 2
}
